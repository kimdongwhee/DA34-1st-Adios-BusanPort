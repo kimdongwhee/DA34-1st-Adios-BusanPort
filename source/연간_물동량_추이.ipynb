{
 "cells": [
  {
   "cell_type": "code",
   "execution_count": 1,
   "metadata": {},
   "outputs": [
    {
     "name": "stderr",
     "output_type": "stream",
     "text": [
      "c:\\playdata projects\\Adios\\DA34-1st-Adios-BusanPort\\.conda\\Lib\\site-packages\\tqdm\\auto.py:21: TqdmWarning: IProgress not found. Please update jupyter and ipywidgets. See https://ipywidgets.readthedocs.io/en/stable/user_install.html\n",
      "  from .autonotebook import tqdm as notebook_tqdm\n"
     ]
    }
   ],
   "source": [
    "# df 전처리\n",
    "import numpy as np\n",
    "import pandas as pd\n",
    "\n",
    "# 시게열 예측\n",
    "from prophet import Prophet\n",
    "import datetime as dt\n",
    "\n",
    "# plotly 시각화\n",
    "import plotly.graph_objects as go\n",
    "from plotly.subplots import make_subplots\n"
   ]
  },
  {
   "cell_type": "code",
   "execution_count": null,
   "metadata": {},
   "outputs": [],
   "source": [
    "\n",
    "# stramlit\n",
    "import streamlit as st\n",
    "def gen_timeseries_df(n):\n",
    "  html='https://www.busanpa.com/kor/Contents.do?mCode=MN0931'\n",
    "  df_raw=pd.read_html(html,encoding='utf-8')[0]\n",
    "  df=df_raw[['연도','총 계']].droplevel(axis=1,level=0).rename(columns={'총 계':'총계'})\n",
    "  y_list=[]\n",
    "  for i in df['연도']:\n",
    "    y_list.append(i)\n",
    "\n",
    "  for i in range(1,n+1):\n",
    "    i+=2024\n",
    "    y_list.append(i)\n",
    "\n",
    "  future=pd.DataFrame({\n",
    "      'ds':y_list\n",
    "  })\n",
    "  year_future=pd.to_datetime(future['ds'],format='%Y')\n",
    "  future['ds']=year_future\n",
    "\n",
    "  date=pd.to_datetime(df['연도'],format='%Y')\n",
    "  df['연도']=date\n",
    "  df.rename(columns={'연도':'ds','총계':'y'},inplace=True)\n",
    "  return(df,future)\n",
    "df,future_df=gen_timeseries_df(5)\n",
    "\n",
    "m = Prophet(yearly_seasonality=True)\n",
    "m.fit(df);\n",
    "\n",
    "#predict: 신뢰구간을 포함한 예측 실행\n",
    "forecast = m.predict(future_df)\n",
    "def gen_graph():\n",
    "    fig=go.Scatter(x=df['ds'],y=df['y'],mode='markers+lines')\n",
    "    fig.add_trace(go.Scatter(x=forecast['ds'],y=forecast['yhat'],mode='markers+lines'),row=1,col=1)\n",
    "    return fig\n",
    "\n",
    "st.plotly_chart(gen_graph())"
   ]
  },
  {
   "cell_type": "code",
   "execution_count": null,
   "metadata": {},
   "outputs": [],
   "source": [
    "go.Figure"
   ]
  },
  {
   "cell_type": "code",
   "execution_count": null,
   "metadata": {},
   "outputs": [],
   "source": []
  }
 ],
 "metadata": {
  "kernelspec": {
   "display_name": "Python 3",
   "language": "python",
   "name": "python3"
  },
  "language_info": {
   "codemirror_mode": {
    "name": "ipython",
    "version": 3
   },
   "file_extension": ".py",
   "mimetype": "text/x-python",
   "name": "python",
   "nbconvert_exporter": "python",
   "pygments_lexer": "ipython3",
   "version": "3.11.8"
  }
 },
 "nbformat": 4,
 "nbformat_minor": 2
}
