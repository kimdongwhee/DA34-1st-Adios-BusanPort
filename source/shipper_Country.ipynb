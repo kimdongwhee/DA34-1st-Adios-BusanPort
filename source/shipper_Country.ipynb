{
 "cells": [
  {
   "cell_type": "markdown",
   "metadata": {},
   "source": [
    "<h1>국가별 선사코드"
   ]
  },
  {
   "cell_type": "markdown",
   "metadata": {},
   "source": [
    "<h3>1) 라이브러리 호출"
   ]
  },
  {
   "cell_type": "code",
   "execution_count": 50,
   "metadata": {},
   "outputs": [],
   "source": [
    "import pandas as pd"
   ]
  },
  {
   "cell_type": "markdown",
   "metadata": {},
   "source": [
    "<h3>2) 데이터 호출"
   ]
  },
  {
   "cell_type": "code",
   "execution_count": 51,
   "metadata": {},
   "outputs": [
    {
     "name": "stdout",
     "output_type": "stream",
     "text": [
      "<class 'pandas.core.frame.DataFrame'>\n",
      "RangeIndex: 5664 entries, 0 to 5663\n",
      "Data columns (total 9 columns):\n",
      " #   Column              Non-Null Count  Dtype \n",
      "---  ------              --------------  ----- \n",
      " 0   선사코드                5664 non-null   object\n",
      " 1   선사명                 5664 non-null   object\n",
      " 2   접안시간                5664 non-null   object\n",
      " 3   출항시간                5664 non-null   object\n",
      " 4   체류시간                5664 non-null   object\n",
      " 5   체류시간_day            5664 non-null   int64 \n",
      " 6   체류시간_time           5664 non-null   int64 \n",
      " 7   체류시간_totalTime(시간)  5664 non-null   int64 \n",
      " 8   상태                  5664 non-null   object\n",
      "dtypes: int64(3), object(6)\n",
      "memory usage: 398.4+ KB\n",
      "None\n",
      "(5664, 9)\n",
      "Index(['선사코드', '선사명', '접안시간', '출항시간', '체류시간', '체류시간_day', '체류시간_time',\n",
      "       '체류시간_totalTime(시간)', '상태'],\n",
      "      dtype='object')\n"
     ]
    }
   ],
   "source": [
    "shipData = pd.read_csv(\"../toy_Project/shipSchedule.csv\")\n",
    "#정보확인\n",
    "print(shipData.info())\n",
    "print(shipData.shape)\n",
    "print(shipData.columns)"
   ]
  },
  {
   "cell_type": "markdown",
   "metadata": {},
   "source": [
    "<h3>3) 특정필드 추출 및 그룹화 + 선사코드별 국가"
   ]
  },
  {
   "cell_type": "code",
   "execution_count": 71,
   "metadata": {},
   "outputs": [],
   "source": [
    "#특정 필드 추출\n",
    "shipData_Cd = shipData[['선사코드', '선사명', '체류시간_totalTime(시간)']]\n",
    "\n",
    "#특정필드 그룹화 후 체류시간 연산\n",
    "shipData_Cd_Grp = shipData_Cd.groupby(\"선사코드\").sum(numeric_only=True).reset_index().sort_values(\"체류시간_totalTime(시간)\", ascending=False)\n",
    "shipData_Cd_Grp\n",
    "\n",
    "#국가 코드 : 해당 리스트 순서는 선사코드 순서에 맞춰 작성\n",
    "country_Cd = [\"IT\", \"KR\", \"JP\", \"DE\", \"CN\", \"IL\", \"HK\", \"KR\", \"HK\", \"KR\", \"KR\", \"KR\", \"TW\", \"TH\", \"기타1\", \"FR\", \"RU\", \"기타2\", \"기타3\", \"기타4\", \"PL\", \"TW\", \"기타5\", \"AE\", \"KR\", \"US\", \"KR\", \"AU\", \"JP\", \"DK\", \"기타6\", \"DE\", \"KR\", \"ID\", \"KR\"]\n",
    "country_FullName= [\"ITALY\", \"REPUBLIC OF KOREA\", \"JAPAN\", \"GERMANY\", \"CHINA\", \"ISRAEL\", \"HONG KONG\", \"REPUBLIC OF KOREA\", \"HONG KONG\", \"REPUBLIC OF KOREA\", \"REPUBLIC OF KOREA\", \"REPUBLIC OF KOREA\", \"TAIWAN\", \"THAILAND\" , \"기타1\", \"FRANCE\", \"RUSSIAN FEDERATION\", \"기타2\", \"기타3\", \"기타4\", \"POLAND\", \"TAIWAN\", \"기타5\", \"UNITED ARAB EMIRATES\", \"REPUBLIC OF KOREA\", \"UNITED STATES\", \"REPUBLIC OF KOREA\", \"AUSTRALIA\", \"JAPAN\", \"DENMARK\", \"기타6\", \"GERMANY\", \"REPUBLIC OF KOREA\", \"INDIA\", \"REPUBLIC OF KOREA\"]\n",
    "\n",
    "shipData_Cd_Grp['국가코드'] = country_Cd\n",
    "shipData_Cd_Grp['국가풀네임'] = country_FullName\n",
    "\n",
    "#데이터 프레임 진행\n",
    "shipData_Cd_Grp = shipData_Cd_Grp[[\"국가코드\",\"국가풀네임\",\"선사코드\",\"체류시간_totalTime(시간)\"]].reset_index()\n",
    "del shipData_Cd_Grp['index']\n",
    "shipData_Cd_Grp.to_csv(\"shipCountryCD.csv\", encoding=\"utf-8-sig\", index=False)"
   ]
  }
 ],
 "metadata": {
  "kernelspec": {
   "display_name": "Python 3",
   "language": "python",
   "name": "python3"
  },
  "language_info": {
   "codemirror_mode": {
    "name": "ipython",
    "version": 3
   },
   "file_extension": ".py",
   "mimetype": "text/x-python",
   "name": "python",
   "nbconvert_exporter": "python",
   "pygments_lexer": "ipython3",
   "version": "3.8.6"
  }
 },
 "nbformat": 4,
 "nbformat_minor": 2
}
