{
 "cells": [
  {
   "cell_type": "markdown",
   "metadata": {},
   "source": [
    "# 월별 물동량 추이\n",
    "### 크롤링"
   ]
  },
  {
   "cell_type": "code",
   "execution_count": 3,
   "metadata": {},
   "outputs": [],
   "source": [
    "import numpy as np\n",
    "import pandas as pd\n",
    "from selenium import webdriver #Selenium의 웹 드라이버를 사용하기 위한 모듈을 임포트\n",
    "from selenium.webdriver.common.by import By #Selenium에서 사용하는 By 클래스를 임포트합. 웹 요소를 검색하는데 사용.\n",
    "from selenium.webdriver.common.keys import Keys #키보드 입력 제어를 위해 Keys 클래스 임포트\n",
    "from selenium.webdriver.chrome.service import Service #Chrome 드라이버 서비스를 사용하기 위한 모듈 임포트\n",
    "from selenium.webdriver.chrome.options import Options #Chrome 드라이버 옵션을 설정하기 위한 클래스 임포트\n",
    "from webdriver_manager.chrome import ChromeDriverManager #Chrome 드라이버를 자동으로 설치 및 관리하는데 사용되는 드라이버 매니저 임포트\n",
    "from bs4 import BeautifulSoup #Beautiful soup 크롤링을위해\n",
    "import time"
   ]
  },
  {
   "cell_type": "code",
   "execution_count": 28,
   "metadata": {},
   "outputs": [],
   "source": [
    "def get_monthly_shipments():\n",
    "    # 브라우저 꺼짐 방지\n",
    "    chrome_options = Options()\n",
    "    chrome_options.add_experimental_option(\"detach\", True)\n",
    "    # 불필요한 에러 메시지 없애기\n",
    "    chrome_options.add_experimental_option(\"excludeSwitches\", [\"enable-logging\"])\n",
    "    driver = webdriver.Chrome(options=chrome_options)\n",
    "    driver.get('https://www.chainportal.co.kr/portstat/nexacro/index.html?screenid=screen_stat')\n",
    "    driver.maximize_window()\n",
    "\n",
    "    driver.implicitly_wait(20)\n",
    "    # 로그인 진행\n",
    "    # id 입력창과 pw 입력창 찾기\n",
    "    id_btn=driver.find_element(By.CSS_SELECTOR,'#mainframe\\.frameIndex\\.form\\.divCenter\\.form\\.divLogin\\.form\\.edId\\:input')\n",
    "    pw_btn=driver.find_element(By.CSS_SELECTOR,'#mainframe\\.frameIndex\\.form\\.divCenter\\.form\\.divLogin\\.form\\.edPw\\:input')\n",
    "    # id 입력\n",
    "    id_btn.send_keys('zoqxls98')\n",
    "\n",
    "    # pw 입력창 클릭 - 안하면 send_keys() 불가능\n",
    "    pw_btn.click()\n",
    "    time.sleep(1)\n",
    "    pw_btn.send_keys('Rlatjddlf527&')\n",
    "    \n",
    "    # 로그인 버튼 클릭\n",
    "    login_btn=driver.find_element(By.CSS_SELECTOR,'#mainframe\\.frameIndex\\.form\\.divCenter\\.form\\.divLogin\\.form\\.btnLogin\\:icontext')\n",
    "    login_btn.click()\n",
    "    print('Log in Done')\n",
    "    # 사이드 창에서 월별 화물 처리실적 찾아 들어가기\n",
    "    time.sleep(10)\n",
    "    btn_1=driver.find_element(By.CSS_SELECTOR,'#mainframe\\.frameIndex\\.form\\.divFrameLeft\\.form\\.divLeft\\.form\\.grdTree\\.body\\.gridrow_2\\.cell_2_1\\:text')\n",
    "    btn_1.click()\n",
    "    time.sleep(2)\n",
    "    btn_2=driver.find_element(By.CSS_SELECTOR,'#mainframe\\.frameIndex\\.form\\.divFrameLeft\\.form\\.divLeft\\.form\\.grdTree\\.body\\.gridrow_4\\.cell_4_1\\:text')\n",
    "    btn_2.click()\n",
    "    print('Site load Done')\n",
    "\n",
    "    # 컨테이너 / 일반 구분 체크박스 클릭\n",
    "    time.sleep(5)\n",
    "    text_btn=driver.find_elements(By.CLASS_NAME,'nexatextitem')  #find_elements로 class name이 nexatextitem인 요소 모두 찾기\n",
    "    time.sleep(10)\n",
    "    divide_btn=text_btn[14] #슬라이싱으로 체크박스만 선택\n",
    "    divide_btn.click()  #클릭\n",
    "    print('Dvide btn clicked')\n",
    "    \n",
    "    # 연도 입력 후 월별 물동량 크롤링(18년도 ~ 23년)\n",
    "    # \n",
    "    df_list=[]\n",
    "    year_list=list(range(2018,2024))\n",
    "    for i in year_list:\n",
    "        time.sleep(5)\n",
    "        year_btn=driver.find_elements(By.CLASS_NAME,'nexainput')[6]\n",
    "        year_btn.click()\n",
    "        year_btn.clear()\n",
    "        time.sleep(5)\n",
    "        year_btn.send_keys(str(i))\n",
    "        time.sleep(5)\n",
    "        search_btn=text_btn[13]\n",
    "        search_btn.click()\n",
    "        print('Search btn clicked')\n",
    "        time.sleep(3)\n",
    "        df=pd.DataFrame()\n",
    "        month_list_raw=driver.find_elements(By.CLASS_NAME,'nexacontentsbox nexacenteralign')\n",
    "        time.sleep(10)\n",
    "        print('월 raw list 개수 : ',len(month_list_raw))\n",
    "        shipments_list_raw=driver.find_elements(By.CLASS_NAME,'nexacontentsbox nexarightalign')\n",
    "        time.sleep(10)\n",
    "        print('물동량 raw list 개수 : ',len(shipments_list_raw))\n",
    "        month_list=[]\n",
    "        shipments_list=[]\n",
    "        time.sleep(20)\n",
    "        for j in range(16,28):\n",
    "            month=month_list_raw[i].text\n",
    "            month_list.append(month)\n",
    "        print(str(i)+' - months done')\n",
    "        shipment=[]\n",
    "        for j in range(12):\n",
    "            j=96+(j*10)\n",
    "            shipment=shipments_list_raw[j].text\n",
    "            shipments_list.append(shipment)\n",
    "        print(str(i)+' - shipments done')\n",
    "        df=pd.DataFrame({\n",
    "            'year':i,\n",
    "            'month':month_list,\n",
    "            'shipments':shipments_list\n",
    "        })\n",
    "        df_list.append(df)\n",
    "        time.sleep(5)\n",
    "        print(str(i)+' done')\n",
    "    driver.close()\n",
    "    return df_list"
   ]
  },
  {
   "cell_type": "code",
   "execution_count": 29,
   "metadata": {},
   "outputs": [
    {
     "name": "stdout",
     "output_type": "stream",
     "text": [
      "Log in Done\n",
      "Site load Done\n",
      "Dvide btn clicked\n",
      "Search btn clicked\n",
      "월 raw list 개수 :  0\n",
      "물동량 raw list 개수 :  0\n"
     ]
    },
    {
     "ename": "IndexError",
     "evalue": "list index out of range",
     "output_type": "error",
     "traceback": [
      "\u001b[1;31m---------------------------------------------------------------------------\u001b[0m",
      "\u001b[1;31mIndexError\u001b[0m                                Traceback (most recent call last)",
      "Cell \u001b[1;32mIn[29], line 1\u001b[0m\n\u001b[1;32m----> 1\u001b[0m df_list\u001b[38;5;241m=\u001b[39m\u001b[43mget_monthly_shipments\u001b[49m\u001b[43m(\u001b[49m\u001b[43m)\u001b[49m\n",
      "Cell \u001b[1;32mIn[28], line 72\u001b[0m, in \u001b[0;36mget_monthly_shipments\u001b[1;34m()\u001b[0m\n\u001b[0;32m     70\u001b[0m time\u001b[38;5;241m.\u001b[39msleep(\u001b[38;5;241m20\u001b[39m)\n\u001b[0;32m     71\u001b[0m \u001b[38;5;28;01mfor\u001b[39;00m j \u001b[38;5;129;01min\u001b[39;00m \u001b[38;5;28mrange\u001b[39m(\u001b[38;5;241m16\u001b[39m,\u001b[38;5;241m28\u001b[39m):\n\u001b[1;32m---> 72\u001b[0m     month\u001b[38;5;241m=\u001b[39m\u001b[43mmonth_list_raw\u001b[49m\u001b[43m[\u001b[49m\u001b[43mi\u001b[49m\u001b[43m]\u001b[49m\u001b[38;5;241m.\u001b[39mtext\n\u001b[0;32m     73\u001b[0m     month_list\u001b[38;5;241m.\u001b[39mappend(month)\n\u001b[0;32m     74\u001b[0m \u001b[38;5;28mprint\u001b[39m(\u001b[38;5;28mstr\u001b[39m(i)\u001b[38;5;241m+\u001b[39m\u001b[38;5;124m'\u001b[39m\u001b[38;5;124m - months done\u001b[39m\u001b[38;5;124m'\u001b[39m)\n",
      "\u001b[1;31mIndexError\u001b[0m: list index out of range"
     ]
    }
   ],
   "source": [
    "df_list=get_monthly_shipments()"
   ]
  }
 ],
 "metadata": {
  "kernelspec": {
   "display_name": "Python 3",
   "language": "python",
   "name": "python3"
  },
  "language_info": {
   "codemirror_mode": {
    "name": "ipython",
    "version": 3
   },
   "file_extension": ".py",
   "mimetype": "text/x-python",
   "name": "python",
   "nbconvert_exporter": "python",
   "pygments_lexer": "ipython3",
   "version": "3.11.7"
  }
 },
 "nbformat": 4,
 "nbformat_minor": 2
}
