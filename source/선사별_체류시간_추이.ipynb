{
 "cells": [
  {
   "cell_type": "markdown",
   "metadata": {},
   "source": [
    "# 선사별 체류 시간 추이"
   ]
  },
  {
   "cell_type": "code",
   "execution_count": 113,
   "metadata": {},
   "outputs": [
    {
     "data": {
      "application/vnd.plotly.v1+json": {
       "config": {
        "plotlyServerURL": "https://plot.ly"
       },
       "data": [
        {
         "marker": {
          "color": [
           0.21739130434782608,
           0,
           0.043478260869565216,
           0.08695652173913043,
           0.9130434782608695,
           0.8695652173913043,
           0.13043478260869565,
           0,
           0.13043478260869565,
           0,
           0,
           0,
           0.17391304347826086,
           0.8260869565217391,
           0.7826086956521738,
           0.7391304347826086,
           0.6086956521739131,
           0.6956521739130435,
           0.6521739130434783,
           0.2608695652173913,
           0.5652173913043478,
           0.17391304347826086,
           0.5217391304347826,
           0.4782608695652174,
           0,
           0.43478260869565216,
           0,
           0.3913043478260869,
           0.043478260869565216,
           0.34782608695652173,
           0.30434782608695654,
           0.08695652173913043,
           0,
           1,
           0
          ]
         },
         "type": "bar",
         "x": [
          "MSC",
          "MAE",
          "ONE",
          "HLC",
          "COH",
          "ZIM",
          "SKR",
          "COS",
          "OOL",
          "HMM",
          "HAS",
          "DWS",
          "YML",
          "RCL",
          "KFC",
          "CMA",
          "FES",
          "BLA",
          "ILN",
          "NGS",
          "KMD",
          "EMC",
          "SPW",
          "HAD",
          "DJS",
          "APL",
          "SML",
          "ANL",
          "MOL",
          "MCC",
          "RSH",
          "HSD",
          "CKL",
          "SJL",
          "NSL"
         ],
         "y": [
          320016,
          80831,
          58754,
          50883,
          28238,
          24969,
          23174,
          20748,
          9152,
          8835,
          7780,
          5813,
          3128,
          2991,
          2388,
          2218,
          2181,
          2087,
          1869,
          1751,
          1127,
          984,
          885,
          634,
          408,
          387,
          300,
          260,
          121,
          104,
          89,
          68,
          57,
          30,
          5
         ]
        }
       ],
       "layout": {
        "template": {
         "data": {
          "bar": [
           {
            "error_x": {
             "color": "#2a3f5f"
            },
            "error_y": {
             "color": "#2a3f5f"
            },
            "marker": {
             "line": {
              "color": "#E5ECF6",
              "width": 0.5
             },
             "pattern": {
              "fillmode": "overlay",
              "size": 10,
              "solidity": 0.2
             }
            },
            "type": "bar"
           }
          ],
          "barpolar": [
           {
            "marker": {
             "line": {
              "color": "#E5ECF6",
              "width": 0.5
             },
             "pattern": {
              "fillmode": "overlay",
              "size": 10,
              "solidity": 0.2
             }
            },
            "type": "barpolar"
           }
          ],
          "carpet": [
           {
            "aaxis": {
             "endlinecolor": "#2a3f5f",
             "gridcolor": "white",
             "linecolor": "white",
             "minorgridcolor": "white",
             "startlinecolor": "#2a3f5f"
            },
            "baxis": {
             "endlinecolor": "#2a3f5f",
             "gridcolor": "white",
             "linecolor": "white",
             "minorgridcolor": "white",
             "startlinecolor": "#2a3f5f"
            },
            "type": "carpet"
           }
          ],
          "choropleth": [
           {
            "colorbar": {
             "outlinewidth": 0,
             "ticks": ""
            },
            "type": "choropleth"
           }
          ],
          "contour": [
           {
            "colorbar": {
             "outlinewidth": 0,
             "ticks": ""
            },
            "colorscale": [
             [
              0,
              "#0d0887"
             ],
             [
              0.1111111111111111,
              "#46039f"
             ],
             [
              0.2222222222222222,
              "#7201a8"
             ],
             [
              0.3333333333333333,
              "#9c179e"
             ],
             [
              0.4444444444444444,
              "#bd3786"
             ],
             [
              0.5555555555555556,
              "#d8576b"
             ],
             [
              0.6666666666666666,
              "#ed7953"
             ],
             [
              0.7777777777777778,
              "#fb9f3a"
             ],
             [
              0.8888888888888888,
              "#fdca26"
             ],
             [
              1,
              "#f0f921"
             ]
            ],
            "type": "contour"
           }
          ],
          "contourcarpet": [
           {
            "colorbar": {
             "outlinewidth": 0,
             "ticks": ""
            },
            "type": "contourcarpet"
           }
          ],
          "heatmap": [
           {
            "colorbar": {
             "outlinewidth": 0,
             "ticks": ""
            },
            "colorscale": [
             [
              0,
              "#0d0887"
             ],
             [
              0.1111111111111111,
              "#46039f"
             ],
             [
              0.2222222222222222,
              "#7201a8"
             ],
             [
              0.3333333333333333,
              "#9c179e"
             ],
             [
              0.4444444444444444,
              "#bd3786"
             ],
             [
              0.5555555555555556,
              "#d8576b"
             ],
             [
              0.6666666666666666,
              "#ed7953"
             ],
             [
              0.7777777777777778,
              "#fb9f3a"
             ],
             [
              0.8888888888888888,
              "#fdca26"
             ],
             [
              1,
              "#f0f921"
             ]
            ],
            "type": "heatmap"
           }
          ],
          "heatmapgl": [
           {
            "colorbar": {
             "outlinewidth": 0,
             "ticks": ""
            },
            "colorscale": [
             [
              0,
              "#0d0887"
             ],
             [
              0.1111111111111111,
              "#46039f"
             ],
             [
              0.2222222222222222,
              "#7201a8"
             ],
             [
              0.3333333333333333,
              "#9c179e"
             ],
             [
              0.4444444444444444,
              "#bd3786"
             ],
             [
              0.5555555555555556,
              "#d8576b"
             ],
             [
              0.6666666666666666,
              "#ed7953"
             ],
             [
              0.7777777777777778,
              "#fb9f3a"
             ],
             [
              0.8888888888888888,
              "#fdca26"
             ],
             [
              1,
              "#f0f921"
             ]
            ],
            "type": "heatmapgl"
           }
          ],
          "histogram": [
           {
            "marker": {
             "pattern": {
              "fillmode": "overlay",
              "size": 10,
              "solidity": 0.2
             }
            },
            "type": "histogram"
           }
          ],
          "histogram2d": [
           {
            "colorbar": {
             "outlinewidth": 0,
             "ticks": ""
            },
            "colorscale": [
             [
              0,
              "#0d0887"
             ],
             [
              0.1111111111111111,
              "#46039f"
             ],
             [
              0.2222222222222222,
              "#7201a8"
             ],
             [
              0.3333333333333333,
              "#9c179e"
             ],
             [
              0.4444444444444444,
              "#bd3786"
             ],
             [
              0.5555555555555556,
              "#d8576b"
             ],
             [
              0.6666666666666666,
              "#ed7953"
             ],
             [
              0.7777777777777778,
              "#fb9f3a"
             ],
             [
              0.8888888888888888,
              "#fdca26"
             ],
             [
              1,
              "#f0f921"
             ]
            ],
            "type": "histogram2d"
           }
          ],
          "histogram2dcontour": [
           {
            "colorbar": {
             "outlinewidth": 0,
             "ticks": ""
            },
            "colorscale": [
             [
              0,
              "#0d0887"
             ],
             [
              0.1111111111111111,
              "#46039f"
             ],
             [
              0.2222222222222222,
              "#7201a8"
             ],
             [
              0.3333333333333333,
              "#9c179e"
             ],
             [
              0.4444444444444444,
              "#bd3786"
             ],
             [
              0.5555555555555556,
              "#d8576b"
             ],
             [
              0.6666666666666666,
              "#ed7953"
             ],
             [
              0.7777777777777778,
              "#fb9f3a"
             ],
             [
              0.8888888888888888,
              "#fdca26"
             ],
             [
              1,
              "#f0f921"
             ]
            ],
            "type": "histogram2dcontour"
           }
          ],
          "mesh3d": [
           {
            "colorbar": {
             "outlinewidth": 0,
             "ticks": ""
            },
            "type": "mesh3d"
           }
          ],
          "parcoords": [
           {
            "line": {
             "colorbar": {
              "outlinewidth": 0,
              "ticks": ""
             }
            },
            "type": "parcoords"
           }
          ],
          "pie": [
           {
            "automargin": true,
            "type": "pie"
           }
          ],
          "scatter": [
           {
            "fillpattern": {
             "fillmode": "overlay",
             "size": 10,
             "solidity": 0.2
            },
            "type": "scatter"
           }
          ],
          "scatter3d": [
           {
            "line": {
             "colorbar": {
              "outlinewidth": 0,
              "ticks": ""
             }
            },
            "marker": {
             "colorbar": {
              "outlinewidth": 0,
              "ticks": ""
             }
            },
            "type": "scatter3d"
           }
          ],
          "scattercarpet": [
           {
            "marker": {
             "colorbar": {
              "outlinewidth": 0,
              "ticks": ""
             }
            },
            "type": "scattercarpet"
           }
          ],
          "scattergeo": [
           {
            "marker": {
             "colorbar": {
              "outlinewidth": 0,
              "ticks": ""
             }
            },
            "type": "scattergeo"
           }
          ],
          "scattergl": [
           {
            "marker": {
             "colorbar": {
              "outlinewidth": 0,
              "ticks": ""
             }
            },
            "type": "scattergl"
           }
          ],
          "scattermapbox": [
           {
            "marker": {
             "colorbar": {
              "outlinewidth": 0,
              "ticks": ""
             }
            },
            "type": "scattermapbox"
           }
          ],
          "scatterpolar": [
           {
            "marker": {
             "colorbar": {
              "outlinewidth": 0,
              "ticks": ""
             }
            },
            "type": "scatterpolar"
           }
          ],
          "scatterpolargl": [
           {
            "marker": {
             "colorbar": {
              "outlinewidth": 0,
              "ticks": ""
             }
            },
            "type": "scatterpolargl"
           }
          ],
          "scatterternary": [
           {
            "marker": {
             "colorbar": {
              "outlinewidth": 0,
              "ticks": ""
             }
            },
            "type": "scatterternary"
           }
          ],
          "surface": [
           {
            "colorbar": {
             "outlinewidth": 0,
             "ticks": ""
            },
            "colorscale": [
             [
              0,
              "#0d0887"
             ],
             [
              0.1111111111111111,
              "#46039f"
             ],
             [
              0.2222222222222222,
              "#7201a8"
             ],
             [
              0.3333333333333333,
              "#9c179e"
             ],
             [
              0.4444444444444444,
              "#bd3786"
             ],
             [
              0.5555555555555556,
              "#d8576b"
             ],
             [
              0.6666666666666666,
              "#ed7953"
             ],
             [
              0.7777777777777778,
              "#fb9f3a"
             ],
             [
              0.8888888888888888,
              "#fdca26"
             ],
             [
              1,
              "#f0f921"
             ]
            ],
            "type": "surface"
           }
          ],
          "table": [
           {
            "cells": {
             "fill": {
              "color": "#EBF0F8"
             },
             "line": {
              "color": "white"
             }
            },
            "header": {
             "fill": {
              "color": "#C8D4E3"
             },
             "line": {
              "color": "white"
             }
            },
            "type": "table"
           }
          ]
         },
         "layout": {
          "annotationdefaults": {
           "arrowcolor": "#2a3f5f",
           "arrowhead": 0,
           "arrowwidth": 1
          },
          "autotypenumbers": "strict",
          "coloraxis": {
           "colorbar": {
            "outlinewidth": 0,
            "ticks": ""
           }
          },
          "colorscale": {
           "diverging": [
            [
             0,
             "#8e0152"
            ],
            [
             0.1,
             "#c51b7d"
            ],
            [
             0.2,
             "#de77ae"
            ],
            [
             0.3,
             "#f1b6da"
            ],
            [
             0.4,
             "#fde0ef"
            ],
            [
             0.5,
             "#f7f7f7"
            ],
            [
             0.6,
             "#e6f5d0"
            ],
            [
             0.7,
             "#b8e186"
            ],
            [
             0.8,
             "#7fbc41"
            ],
            [
             0.9,
             "#4d9221"
            ],
            [
             1,
             "#276419"
            ]
           ],
           "sequential": [
            [
             0,
             "#0d0887"
            ],
            [
             0.1111111111111111,
             "#46039f"
            ],
            [
             0.2222222222222222,
             "#7201a8"
            ],
            [
             0.3333333333333333,
             "#9c179e"
            ],
            [
             0.4444444444444444,
             "#bd3786"
            ],
            [
             0.5555555555555556,
             "#d8576b"
            ],
            [
             0.6666666666666666,
             "#ed7953"
            ],
            [
             0.7777777777777778,
             "#fb9f3a"
            ],
            [
             0.8888888888888888,
             "#fdca26"
            ],
            [
             1,
             "#f0f921"
            ]
           ],
           "sequentialminus": [
            [
             0,
             "#0d0887"
            ],
            [
             0.1111111111111111,
             "#46039f"
            ],
            [
             0.2222222222222222,
             "#7201a8"
            ],
            [
             0.3333333333333333,
             "#9c179e"
            ],
            [
             0.4444444444444444,
             "#bd3786"
            ],
            [
             0.5555555555555556,
             "#d8576b"
            ],
            [
             0.6666666666666666,
             "#ed7953"
            ],
            [
             0.7777777777777778,
             "#fb9f3a"
            ],
            [
             0.8888888888888888,
             "#fdca26"
            ],
            [
             1,
             "#f0f921"
            ]
           ]
          },
          "colorway": [
           "#636efa",
           "#EF553B",
           "#00cc96",
           "#ab63fa",
           "#FFA15A",
           "#19d3f3",
           "#FF6692",
           "#B6E880",
           "#FF97FF",
           "#FECB52"
          ],
          "font": {
           "color": "#2a3f5f"
          },
          "geo": {
           "bgcolor": "white",
           "lakecolor": "white",
           "landcolor": "#E5ECF6",
           "showlakes": true,
           "showland": true,
           "subunitcolor": "white"
          },
          "hoverlabel": {
           "align": "left"
          },
          "hovermode": "closest",
          "mapbox": {
           "style": "light"
          },
          "paper_bgcolor": "white",
          "plot_bgcolor": "#E5ECF6",
          "polar": {
           "angularaxis": {
            "gridcolor": "white",
            "linecolor": "white",
            "ticks": ""
           },
           "bgcolor": "#E5ECF6",
           "radialaxis": {
            "gridcolor": "white",
            "linecolor": "white",
            "ticks": ""
           }
          },
          "scene": {
           "xaxis": {
            "backgroundcolor": "#E5ECF6",
            "gridcolor": "white",
            "gridwidth": 2,
            "linecolor": "white",
            "showbackground": true,
            "ticks": "",
            "zerolinecolor": "white"
           },
           "yaxis": {
            "backgroundcolor": "#E5ECF6",
            "gridcolor": "white",
            "gridwidth": 2,
            "linecolor": "white",
            "showbackground": true,
            "ticks": "",
            "zerolinecolor": "white"
           },
           "zaxis": {
            "backgroundcolor": "#E5ECF6",
            "gridcolor": "white",
            "gridwidth": 2,
            "linecolor": "white",
            "showbackground": true,
            "ticks": "",
            "zerolinecolor": "white"
           }
          },
          "shapedefaults": {
           "line": {
            "color": "#2a3f5f"
           }
          },
          "ternary": {
           "aaxis": {
            "gridcolor": "white",
            "linecolor": "white",
            "ticks": ""
           },
           "baxis": {
            "gridcolor": "white",
            "linecolor": "white",
            "ticks": ""
           },
           "bgcolor": "#E5ECF6",
           "caxis": {
            "gridcolor": "white",
            "linecolor": "white",
            "ticks": ""
           }
          },
          "title": {
           "x": 0.05
          },
          "xaxis": {
           "automargin": true,
           "gridcolor": "white",
           "linecolor": "white",
           "ticks": "",
           "title": {
            "standoff": 15
           },
           "zerolinecolor": "white",
           "zerolinewidth": 2
          },
          "yaxis": {
           "automargin": true,
           "gridcolor": "white",
           "linecolor": "white",
           "ticks": "",
           "title": {
            "standoff": 15
           },
           "zerolinecolor": "white",
           "zerolinewidth": 2
          }
         }
        },
        "title": {
         "font": {
          "size": 20
         },
         "text": "선사별 체류 시간"
        },
        "xaxis": {
         "title": {
          "text": "선사 코드"
         }
        },
        "yaxis": {
         "title": {
          "text": "체류 시간(단위 : 시간)"
         }
        }
       }
      }
     },
     "metadata": {},
     "output_type": "display_data"
    }
   ],
   "source": [
    "import pandas as pd\n",
    "import numpy as np\n",
    "import plotly.graph_objects as go\n",
    "\n",
    "# 선사코드(comp_nation_df) - 국가 매핑 데이터 불러오기\n",
    "comp_nation_df=pd.read_csv('c:/playdata projects/Adios/DA34-1st-Adios-BusanPort/data/shipCountryCD.csv')\n",
    "\n",
    "# 국가 별로 색상 차이를 두기 위한 영역\n",
    "color_map_df=pd.DataFrame(comp_nation_df['국가코드'].value_counts())\n",
    "# 0~1 까지 개수가 23개(국가코드의 유니크 값 개수)인 array 생성\n",
    "# plotly에서 국가 별 색상 차이를 두려면 0~1 사이의 숫자여야 함\n",
    "bin_list=np.arange(0,1,1/len(color_map_df))\n",
    "bin_list[-1]=1  #bin_list의 마지막 값을 1로 변경\n",
    "bin_list=list(bin_list)\n",
    "color_map_df['컬러맵']=bin_list\n",
    "color_map_df=color_map_df.reset_index().drop('count',axis=1)\n",
    "color_map_df\n",
    "comp_nation_df=comp_nation_df.merge(color_map_df,on='국가코드')\n",
    "fig=go.Figure()\n",
    "fig.add_trace(go.Bar(x=comp_nation_df['선사코드'],y=comp_nation_df['체류시간_totalTime(시간)'],\n",
    "                     marker_color=comp_nation_df['컬러맵']))\n",
    "fig.update_layout(title='선사별 체류 시간',xaxis=dict(title='선사 코드'),yaxis=dict(title='체류 시간(단위 : 시간)'),\n",
    "                  title_font=dict(size=20))"
   ]
  },
  {
   "cell_type": "code",
   "execution_count": 114,
   "metadata": {},
   "outputs": [
    {
     "data": {
      "text/html": [
       "<div>\n",
       "<style scoped>\n",
       "    .dataframe tbody tr th:only-of-type {\n",
       "        vertical-align: middle;\n",
       "    }\n",
       "\n",
       "    .dataframe tbody tr th {\n",
       "        vertical-align: top;\n",
       "    }\n",
       "\n",
       "    .dataframe thead th {\n",
       "        text-align: right;\n",
       "    }\n",
       "</style>\n",
       "<table border=\"1\" class=\"dataframe\">\n",
       "  <thead>\n",
       "    <tr style=\"text-align: right;\">\n",
       "      <th></th>\n",
       "      <th>국가코드</th>\n",
       "      <th>국가풀네임</th>\n",
       "      <th>선사코드</th>\n",
       "      <th>체류시간_totalTime(시간)</th>\n",
       "      <th>컬러맵</th>\n",
       "    </tr>\n",
       "  </thead>\n",
       "  <tbody>\n",
       "    <tr>\n",
       "      <th>0</th>\n",
       "      <td>IT</td>\n",
       "      <td>ITALY</td>\n",
       "      <td>MSC</td>\n",
       "      <td>320016</td>\n",
       "      <td>0.217391</td>\n",
       "    </tr>\n",
       "    <tr>\n",
       "      <th>1</th>\n",
       "      <td>KR</td>\n",
       "      <td>REPUBLIC OF KOREA</td>\n",
       "      <td>MAE</td>\n",
       "      <td>80831</td>\n",
       "      <td>0.000000</td>\n",
       "    </tr>\n",
       "    <tr>\n",
       "      <th>2</th>\n",
       "      <td>JP</td>\n",
       "      <td>JAPAN</td>\n",
       "      <td>ONE</td>\n",
       "      <td>58754</td>\n",
       "      <td>0.043478</td>\n",
       "    </tr>\n",
       "    <tr>\n",
       "      <th>3</th>\n",
       "      <td>DE</td>\n",
       "      <td>GERMANY</td>\n",
       "      <td>HLC</td>\n",
       "      <td>50883</td>\n",
       "      <td>0.086957</td>\n",
       "    </tr>\n",
       "    <tr>\n",
       "      <th>4</th>\n",
       "      <td>CN</td>\n",
       "      <td>CHINA</td>\n",
       "      <td>COH</td>\n",
       "      <td>28238</td>\n",
       "      <td>0.913043</td>\n",
       "    </tr>\n",
       "    <tr>\n",
       "      <th>5</th>\n",
       "      <td>IL</td>\n",
       "      <td>ISRAEL</td>\n",
       "      <td>ZIM</td>\n",
       "      <td>24969</td>\n",
       "      <td>0.869565</td>\n",
       "    </tr>\n",
       "    <tr>\n",
       "      <th>6</th>\n",
       "      <td>HK</td>\n",
       "      <td>HONG KONG</td>\n",
       "      <td>SKR</td>\n",
       "      <td>23174</td>\n",
       "      <td>0.130435</td>\n",
       "    </tr>\n",
       "    <tr>\n",
       "      <th>7</th>\n",
       "      <td>KR</td>\n",
       "      <td>REPUBLIC OF KOREA</td>\n",
       "      <td>COS</td>\n",
       "      <td>20748</td>\n",
       "      <td>0.000000</td>\n",
       "    </tr>\n",
       "    <tr>\n",
       "      <th>8</th>\n",
       "      <td>HK</td>\n",
       "      <td>HONG KONG</td>\n",
       "      <td>OOL</td>\n",
       "      <td>9152</td>\n",
       "      <td>0.130435</td>\n",
       "    </tr>\n",
       "    <tr>\n",
       "      <th>9</th>\n",
       "      <td>KR</td>\n",
       "      <td>REPUBLIC OF KOREA</td>\n",
       "      <td>HMM</td>\n",
       "      <td>8835</td>\n",
       "      <td>0.000000</td>\n",
       "    </tr>\n",
       "    <tr>\n",
       "      <th>10</th>\n",
       "      <td>KR</td>\n",
       "      <td>REPUBLIC OF KOREA</td>\n",
       "      <td>HAS</td>\n",
       "      <td>7780</td>\n",
       "      <td>0.000000</td>\n",
       "    </tr>\n",
       "    <tr>\n",
       "      <th>11</th>\n",
       "      <td>KR</td>\n",
       "      <td>REPUBLIC OF KOREA</td>\n",
       "      <td>DWS</td>\n",
       "      <td>5813</td>\n",
       "      <td>0.000000</td>\n",
       "    </tr>\n",
       "    <tr>\n",
       "      <th>12</th>\n",
       "      <td>TW</td>\n",
       "      <td>TAIWAN</td>\n",
       "      <td>YML</td>\n",
       "      <td>3128</td>\n",
       "      <td>0.173913</td>\n",
       "    </tr>\n",
       "    <tr>\n",
       "      <th>13</th>\n",
       "      <td>TH</td>\n",
       "      <td>THAILAND</td>\n",
       "      <td>RCL</td>\n",
       "      <td>2991</td>\n",
       "      <td>0.826087</td>\n",
       "    </tr>\n",
       "    <tr>\n",
       "      <th>14</th>\n",
       "      <td>기타1</td>\n",
       "      <td>기타1</td>\n",
       "      <td>KFC</td>\n",
       "      <td>2388</td>\n",
       "      <td>0.782609</td>\n",
       "    </tr>\n",
       "    <tr>\n",
       "      <th>15</th>\n",
       "      <td>FR</td>\n",
       "      <td>FRANCE</td>\n",
       "      <td>CMA</td>\n",
       "      <td>2218</td>\n",
       "      <td>0.739130</td>\n",
       "    </tr>\n",
       "    <tr>\n",
       "      <th>16</th>\n",
       "      <td>RU</td>\n",
       "      <td>RUSSIAN FEDERATION</td>\n",
       "      <td>FES</td>\n",
       "      <td>2181</td>\n",
       "      <td>0.608696</td>\n",
       "    </tr>\n",
       "    <tr>\n",
       "      <th>17</th>\n",
       "      <td>기타2</td>\n",
       "      <td>기타2</td>\n",
       "      <td>BLA</td>\n",
       "      <td>2087</td>\n",
       "      <td>0.695652</td>\n",
       "    </tr>\n",
       "    <tr>\n",
       "      <th>18</th>\n",
       "      <td>기타3</td>\n",
       "      <td>기타3</td>\n",
       "      <td>ILN</td>\n",
       "      <td>1869</td>\n",
       "      <td>0.652174</td>\n",
       "    </tr>\n",
       "    <tr>\n",
       "      <th>19</th>\n",
       "      <td>기타4</td>\n",
       "      <td>기타4</td>\n",
       "      <td>NGS</td>\n",
       "      <td>1751</td>\n",
       "      <td>0.260870</td>\n",
       "    </tr>\n",
       "    <tr>\n",
       "      <th>20</th>\n",
       "      <td>PL</td>\n",
       "      <td>POLAND</td>\n",
       "      <td>KMD</td>\n",
       "      <td>1127</td>\n",
       "      <td>0.565217</td>\n",
       "    </tr>\n",
       "    <tr>\n",
       "      <th>21</th>\n",
       "      <td>TW</td>\n",
       "      <td>TAIWAN</td>\n",
       "      <td>EMC</td>\n",
       "      <td>984</td>\n",
       "      <td>0.173913</td>\n",
       "    </tr>\n",
       "    <tr>\n",
       "      <th>22</th>\n",
       "      <td>기타5</td>\n",
       "      <td>기타5</td>\n",
       "      <td>SPW</td>\n",
       "      <td>885</td>\n",
       "      <td>0.521739</td>\n",
       "    </tr>\n",
       "    <tr>\n",
       "      <th>23</th>\n",
       "      <td>AE</td>\n",
       "      <td>UNITED ARAB EMIRATES</td>\n",
       "      <td>HAD</td>\n",
       "      <td>634</td>\n",
       "      <td>0.478261</td>\n",
       "    </tr>\n",
       "    <tr>\n",
       "      <th>24</th>\n",
       "      <td>KR</td>\n",
       "      <td>REPUBLIC OF KOREA</td>\n",
       "      <td>DJS</td>\n",
       "      <td>408</td>\n",
       "      <td>0.000000</td>\n",
       "    </tr>\n",
       "    <tr>\n",
       "      <th>25</th>\n",
       "      <td>US</td>\n",
       "      <td>UNITED STATES</td>\n",
       "      <td>APL</td>\n",
       "      <td>387</td>\n",
       "      <td>0.434783</td>\n",
       "    </tr>\n",
       "    <tr>\n",
       "      <th>26</th>\n",
       "      <td>KR</td>\n",
       "      <td>REPUBLIC OF KOREA</td>\n",
       "      <td>SML</td>\n",
       "      <td>300</td>\n",
       "      <td>0.000000</td>\n",
       "    </tr>\n",
       "    <tr>\n",
       "      <th>27</th>\n",
       "      <td>AU</td>\n",
       "      <td>AUSTRALIA</td>\n",
       "      <td>ANL</td>\n",
       "      <td>260</td>\n",
       "      <td>0.391304</td>\n",
       "    </tr>\n",
       "    <tr>\n",
       "      <th>28</th>\n",
       "      <td>JP</td>\n",
       "      <td>JAPAN</td>\n",
       "      <td>MOL</td>\n",
       "      <td>121</td>\n",
       "      <td>0.043478</td>\n",
       "    </tr>\n",
       "    <tr>\n",
       "      <th>29</th>\n",
       "      <td>DK</td>\n",
       "      <td>DENMARK</td>\n",
       "      <td>MCC</td>\n",
       "      <td>104</td>\n",
       "      <td>0.347826</td>\n",
       "    </tr>\n",
       "    <tr>\n",
       "      <th>30</th>\n",
       "      <td>기타6</td>\n",
       "      <td>기타6</td>\n",
       "      <td>RSH</td>\n",
       "      <td>89</td>\n",
       "      <td>0.304348</td>\n",
       "    </tr>\n",
       "    <tr>\n",
       "      <th>31</th>\n",
       "      <td>DE</td>\n",
       "      <td>GERMANY</td>\n",
       "      <td>HSD</td>\n",
       "      <td>68</td>\n",
       "      <td>0.086957</td>\n",
       "    </tr>\n",
       "    <tr>\n",
       "      <th>32</th>\n",
       "      <td>KR</td>\n",
       "      <td>REPUBLIC OF KOREA</td>\n",
       "      <td>CKL</td>\n",
       "      <td>57</td>\n",
       "      <td>0.000000</td>\n",
       "    </tr>\n",
       "    <tr>\n",
       "      <th>33</th>\n",
       "      <td>ID</td>\n",
       "      <td>INDIA</td>\n",
       "      <td>SJL</td>\n",
       "      <td>30</td>\n",
       "      <td>1.000000</td>\n",
       "    </tr>\n",
       "    <tr>\n",
       "      <th>34</th>\n",
       "      <td>KR</td>\n",
       "      <td>REPUBLIC OF KOREA</td>\n",
       "      <td>NSL</td>\n",
       "      <td>5</td>\n",
       "      <td>0.000000</td>\n",
       "    </tr>\n",
       "  </tbody>\n",
       "</table>\n",
       "</div>"
      ],
      "text/plain": [
       "   국가코드                 국가풀네임 선사코드  체류시간_totalTime(시간)       컬러맵\n",
       "0    IT                 ITALY  MSC              320016  0.217391\n",
       "1    KR     REPUBLIC OF KOREA  MAE               80831  0.000000\n",
       "2    JP                 JAPAN  ONE               58754  0.043478\n",
       "3    DE               GERMANY  HLC               50883  0.086957\n",
       "4    CN                 CHINA  COH               28238  0.913043\n",
       "5    IL                ISRAEL  ZIM               24969  0.869565\n",
       "6    HK             HONG KONG  SKR               23174  0.130435\n",
       "7    KR     REPUBLIC OF KOREA  COS               20748  0.000000\n",
       "8    HK             HONG KONG  OOL                9152  0.130435\n",
       "9    KR     REPUBLIC OF KOREA  HMM                8835  0.000000\n",
       "10   KR     REPUBLIC OF KOREA  HAS                7780  0.000000\n",
       "11   KR     REPUBLIC OF KOREA  DWS                5813  0.000000\n",
       "12   TW                TAIWAN  YML                3128  0.173913\n",
       "13   TH              THAILAND  RCL                2991  0.826087\n",
       "14  기타1                   기타1  KFC                2388  0.782609\n",
       "15   FR                FRANCE  CMA                2218  0.739130\n",
       "16   RU    RUSSIAN FEDERATION  FES                2181  0.608696\n",
       "17  기타2                   기타2  BLA                2087  0.695652\n",
       "18  기타3                   기타3  ILN                1869  0.652174\n",
       "19  기타4                   기타4  NGS                1751  0.260870\n",
       "20   PL                POLAND  KMD                1127  0.565217\n",
       "21   TW                TAIWAN  EMC                 984  0.173913\n",
       "22  기타5                   기타5  SPW                 885  0.521739\n",
       "23   AE  UNITED ARAB EMIRATES  HAD                 634  0.478261\n",
       "24   KR     REPUBLIC OF KOREA  DJS                 408  0.000000\n",
       "25   US         UNITED STATES  APL                 387  0.434783\n",
       "26   KR     REPUBLIC OF KOREA  SML                 300  0.000000\n",
       "27   AU             AUSTRALIA  ANL                 260  0.391304\n",
       "28   JP                 JAPAN  MOL                 121  0.043478\n",
       "29   DK               DENMARK  MCC                 104  0.347826\n",
       "30  기타6                   기타6  RSH                  89  0.304348\n",
       "31   DE               GERMANY  HSD                  68  0.086957\n",
       "32   KR     REPUBLIC OF KOREA  CKL                  57  0.000000\n",
       "33   ID                 INDIA  SJL                  30  1.000000\n",
       "34   KR     REPUBLIC OF KOREA  NSL                   5  0.000000"
      ]
     },
     "execution_count": 114,
     "metadata": {},
     "output_type": "execute_result"
    }
   ],
   "source": [
    "comp_nation_df"
   ]
  },
  {
   "cell_type": "code",
   "execution_count": 112,
   "metadata": {},
   "outputs": [],
   "source": [
    "comp_nation_df.to_csv(\"c:/playdata projects/Adios/DA34-1st-Adios-BusanPort/data/shipSchedule.csv\", encoding=\"utf-8-sig\", index=False)"
   ]
  }
 ],
 "metadata": {
  "kernelspec": {
   "display_name": "Python 3",
   "language": "python",
   "name": "python3"
  },
  "language_info": {
   "codemirror_mode": {
    "name": "ipython",
    "version": 3
   },
   "file_extension": ".py",
   "mimetype": "text/x-python",
   "name": "python",
   "nbconvert_exporter": "python",
   "pygments_lexer": "ipython3",
   "version": "3.11.8"
  }
 },
 "nbformat": 4,
 "nbformat_minor": 2
}
