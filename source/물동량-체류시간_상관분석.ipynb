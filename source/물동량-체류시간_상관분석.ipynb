{
 "cells": [
  {
   "cell_type": "markdown",
   "metadata": {},
   "source": [
    "# 물동량과 체류 시간의 상관관계 분석"
   ]
  },
  {
   "cell_type": "markdown",
   "metadata": {},
   "source": [
    "### 데이터 로드, 전처리"
   ]
  },
  {
   "cell_type": "code",
   "execution_count": 8,
   "metadata": {},
   "outputs": [],
   "source": [
    "import pandas as pd\n",
    "import numpy as np\n",
    "# 체류 시간(stayed_time_df_raw) 불러오기\n",
    "stayed_time_df_raw=pd.read_csv('C:/playdata projects/Adios/DA34-1st-Adios-BusanPort/data/shipSchedule(12 ~ 23).csv')\n",
    "\n",
    "# 접안시간 기준으로 년도 행과 월 행 생성\n",
    "year=[]\n",
    "month=[]\n",
    "for i in range(len(stayed_time_df_raw)):\n",
    "    year.append(int(stayed_time_df_raw['접안시간'][i][:4]))\n",
    "    month.append(int(stayed_time_df_raw['접안시간'][i][5:7]))\n",
    "stayed_time_df_raw['년도']=year\n",
    "stayed_time_df_raw['월']=month\n",
    "\n",
    "# 년도와 월 행을 기준으로 groupby 후 체류 시간의 합 구하기\n",
    "stayed_time_df=stayed_time_df_raw.groupby(['년도','월'],as_index=False)['체류시간_totalTime(시간)'].sum()\n",
    "\n",
    "# 13년도 ~ 23년도 데이터만 추출\n",
    "# 물동량 데이터가 13 ~ 23년도만 존재하기 때문\n",
    "stayed_time_df=stayed_time_df[(stayed_time_df.년도>=2013) & (stayed_time_df.년도<=2023)].reset_index().drop('index',axis=1)\n",
    "\n",
    "# 물동량 데이터 불러오기\n",
    "shipment_df=pd.read_csv('C:/playdata projects/Adios/DA34-1st-Adios-BusanPort/data/년,월별 물동량.csv')\n",
    "shipment_df.drop(['Unnamed: 0','년/월'],axis=1,inplace=True)  #불필요한 행 제거\n",
    "\n",
    "# 체류시간, 물동량 Merge\n",
    "shipment_stayed_df=shipment_df.merge(stayed_time_df,on=['년도','월'])\n",
    "\n",
    "# Merge한 데이터 저장\n",
    "shipment_stayed_df.to_csv('C:/playdata projects/Adios/DA34-1st-Adios-BusanPort/data/물동량-체류시간_상관분석.csv')\n",
    "\n",
    "# 년도, 월 기준으로 sort\n",
    "shipment_stayed_df.sort_values(['년도','월'],inplace=True)"
   ]
  },
  {
   "cell_type": "markdown",
   "metadata": {},
   "source": [
    "### 물동량 - 체류시간 상관분석"
   ]
  },
  {
   "cell_type": "code",
   "execution_count": 9,
   "metadata": {},
   "outputs": [
    {
     "data": {
      "text/plain": [
       "0.4933140536209876"
      ]
     },
     "execution_count": 9,
     "metadata": {},
     "output_type": "execute_result"
    }
   ],
   "source": [
    "# 상관계수_1\n",
    "corr1=np.corrcoef(shipment_stayed_df['체류시간_totalTime(시간)'],shipment_stayed_df['컨테이너'])\n",
    "corr1[1,0]"
   ]
  },
  {
   "cell_type": "markdown",
   "metadata": {},
   "source": [
    "### 시각화 - Plotly"
   ]
  },
  {
   "cell_type": "markdown",
   "metadata": {},
   "source": [
    "##### 물동량 체류시간 상관분석 시각화 - Scatter"
   ]
  },
  {
   "cell_type": "code",
   "execution_count": 10,
   "metadata": {},
   "outputs": [],
   "source": [
    "# 한글깨짐 방지\n",
    "import matplotlib.pyplot as plt\n",
    "%matplotlib inline\n",
    "from matplotlib import font_manager, rc\n",
    "plt.rcParams['axes.unicode_minus'] = False\n",
    "#f_path = \"/Library/Fonts/AppleGothic.ttf\"\n",
    "f_path = \"C:/Windows/Fonts/malgun.ttf\"\n",
    "font_name = font_manager.FontProperties(fname=f_path).get_name()\n",
    "rc('font', family=font_name)"
   ]
  },
  {
   "cell_type": "code",
   "execution_count": 11,
   "metadata": {},
   "outputs": [
    {
     "name": "stderr",
     "output_type": "stream",
     "text": [
      "C:\\Users\\kamci\\AppData\\Local\\Temp\\ipykernel_11364\\3587488162.py:8: FutureWarning:\n",
      "\n",
      "Series.__getitem__ treating keys as positions is deprecated. In a future version, integer keys will always be treated as labels (consistent with DataFrame behavior). To access a value by position, use `ser.iloc[pos]`\n",
      "\n"
     ]
    },
    {
     "data": {
      "application/vnd.plotly.v1+json": {
       "config": {
        "plotlyServerURL": "https://plot.ly"
       },
       "data": [
        {
         "hovertemplate": "<b>년도:</b> %{text}",
         "mode": "markers",
         "name": "실측값",
         "text": [
          "2013년 1월",
          "2013년 2월",
          "2013년 3월",
          "2013년 4월",
          "2013년 5월",
          "2013년 6월",
          "2013년 7월",
          "2013년 8월",
          "2013년 9월",
          "2013년 10월",
          "2013년 11월",
          "2013년 12월",
          "2014년 1월",
          "2014년 2월",
          "2014년 3월",
          "2014년 4월",
          "2014년 5월",
          "2014년 6월",
          "2014년 7월",
          "2014년 8월",
          "2014년 9월",
          "2014년 10월",
          "2014년 11월",
          "2014년 12월",
          "2015년 1월",
          "2015년 2월",
          "2015년 3월",
          "2015년 4월",
          "2015년 5월",
          "2015년 6월",
          "2015년 7월",
          "2015년 8월",
          "2015년 9월",
          "2015년 10월",
          "2015년 11월",
          "2015년 12월",
          "2016년 1월",
          "2016년 2월",
          "2016년 3월",
          "2016년 4월",
          "2016년 5월",
          "2016년 6월",
          "2016년 7월",
          "2016년 8월",
          "2016년 9월",
          "2016년 10월",
          "2016년 11월",
          "2016년 12월",
          "2017년 1월",
          "2017년 2월",
          "2017년 3월",
          "2017년 4월",
          "2017년 5월",
          "2017년 6월",
          "2017년 7월",
          "2017년 8월",
          "2017년 9월",
          "2017년 10월",
          "2017년 11월",
          "2017년 12월",
          "2018년 1월",
          "2018년 2월",
          "2018년 3월",
          "2018년 4월",
          "2018년 5월",
          "2018년 6월",
          "2018년 7월",
          "2018년 8월",
          "2018년 9월",
          "2018년 10월",
          "2018년 11월",
          "2018년 12월",
          "2019년 1월",
          "2019년 2월",
          "2019년 3월",
          "2019년 4월",
          "2019년 5월",
          "2019년 6월",
          "2019년 7월",
          "2019년 8월",
          "2019년 9월",
          "2019년 10월",
          "2019년 11월",
          "2019년 12월",
          "2020년 1월",
          "2020년 2월",
          "2020년 3월",
          "2020년 4월",
          "2020년 5월",
          "2020년 6월",
          "2020년 7월",
          "2020년 8월",
          "2020년 9월",
          "2020년 10월",
          "2020년 11월",
          "2020년 12월",
          "2021년 1월",
          "2021년 2월",
          "2021년 3월",
          "2021년 4월",
          "2021년 5월",
          "2021년 6월",
          "2021년 7월",
          "2021년 8월",
          "2021년 9월",
          "2021년 10월",
          "2021년 11월",
          "2021년 12월",
          "2022년 1월",
          "2022년 2월",
          "2022년 3월",
          "2022년 4월",
          "2022년 5월",
          "2022년 6월",
          "2022년 7월",
          "2022년 8월",
          "2022년 9월",
          "2022년 10월",
          "2022년 11월",
          "2022년 12월",
          "2023년 1월",
          "2023년 2월",
          "2023년 3월",
          "2023년 4월",
          "2023년 5월",
          "2023년 6월",
          "2023년 7월",
          "2023년 8월",
          "2023년 9월",
          "2023년 10월",
          "2023년 11월",
          "2023년 12월"
         ],
         "type": "scatter",
         "x": [
          1088,
          1052,
          1175,
          1203,
          1180,
          1196,
          1221,
          964,
          1038,
          924,
          1108,
          1201,
          1141,
          1015,
          1157,
          1169,
          1138,
          1208,
          1090,
          1141,
          895,
          1067,
          1125,
          1088,
          1112,
          1427,
          1558,
          1553,
          1605,
          1527,
          1575,
          1491,
          1513,
          1522,
          1368,
          1468,
          1383,
          1443,
          1427,
          1395,
          1423,
          1413,
          1613,
          1434,
          1601,
          1614,
          1542,
          1678,
          1606,
          1566,
          1669,
          1673,
          1402,
          1120,
          1148,
          1240,
          1223,
          1313,
          1287,
          2074,
          2001,
          1929,
          2113,
          2160,
          2424,
          2930,
          3149,
          3404,
          3527,
          3417,
          3513,
          3489,
          3705,
          3785,
          4428,
          5693,
          5862,
          5547,
          5885,
          5983,
          5678,
          5608,
          6327,
          6671,
          7149,
          6092,
          7534,
          7415,
          7357,
          7551,
          8530,
          9122,
          7770,
          8349,
          8384,
          8501,
          9128,
          7778,
          8565,
          9470,
          10257,
          10819,
          10146,
          10742,
          11096,
          11891,
          12710,
          14135,
          15833,
          13766,
          14851,
          15631,
          16404,
          15440,
          17881,
          19161,
          15390,
          16673,
          17338,
          16446,
          18036,
          15293,
          17775,
          17069,
          16699,
          17291,
          17047,
          17367,
          17003,
          18293,
          16577,
          12671
         ],
         "y": [
          23818165,
          21777930,
          26068371,
          25903253,
          25397562,
          25581027,
          25771392,
          24572137,
          24250059,
          25221780,
          25118429,
          26179697,
          26515130,
          22329432,
          28100356,
          27846017,
          26665180,
          27444889,
          27418977,
          26957202,
          26260981,
          28710816,
          26310376,
          26936347,
          28360923,
          27052143,
          28373705,
          28165372,
          27905365,
          27801498,
          28138980,
          27788184,
          27790401,
          27541499,
          26418527,
          27714961,
          26625291,
          26864836,
          28661030,
          27158981,
          28346472,
          27650651,
          29677729,
          28442784,
          27907395,
          29542666,
          27944245,
          27763265,
          31851032,
          25883397,
          31573364,
          32492336,
          30491782,
          39029511,
          32697198,
          29984272,
          29290050,
          29866470,
          30559001,
          32144396,
          29948424,
          29893665,
          30354716,
          35260699,
          42688022,
          38303545,
          42122798,
          37554829,
          38622443,
          37931385,
          38515382,
          38435533,
          34562177,
          33300548,
          36921219,
          35240393,
          37434073,
          40332066,
          40245963,
          41674569,
          36085439,
          37592308,
          35405859,
          38546489,
          32892745,
          29911546,
          34528350,
          30793667,
          29776399,
          30937962,
          31847742,
          31702352,
          32073284,
          35177948,
          36047373,
          34617474,
          34108728,
          31047023,
          36095466,
          35782420,
          36709976,
          35499570,
          36455429,
          34731385,
          34137418,
          36817722,
          34123158,
          34510917,
          36560923,
          31763649,
          33563686,
          34322882,
          35561220,
          33570228,
          37475451,
          34654034,
          28412085,
          32971406,
          31876606,
          30599443,
          33775988,
          30614941,
          36307614,
          35789154,
          35273725,
          33655766,
          34477321,
          34292855,
          35206478,
          33865762,
          35283219,
          34096319
         ]
        },
        {
         "line": {
          "color": "red",
          "width": 2
         },
         "mode": "lines",
         "name": "추세선",
         "type": "scatter",
         "x": [
          1088,
          1052,
          1175,
          1203,
          1180,
          1196,
          1221,
          964,
          1038,
          924,
          1108,
          1201,
          1141,
          1015,
          1157,
          1169,
          1138,
          1208,
          1090,
          1141,
          895,
          1067,
          1125,
          1088,
          1112,
          1427,
          1558,
          1553,
          1605,
          1527,
          1575,
          1491,
          1513,
          1522,
          1368,
          1468,
          1383,
          1443,
          1427,
          1395,
          1423,
          1413,
          1613,
          1434,
          1601,
          1614,
          1542,
          1678,
          1606,
          1566,
          1669,
          1673,
          1402,
          1120,
          1148,
          1240,
          1223,
          1313,
          1287,
          2074,
          2001,
          1929,
          2113,
          2160,
          2424,
          2930,
          3149,
          3404,
          3527,
          3417,
          3513,
          3489,
          3705,
          3785,
          4428,
          5693,
          5862,
          5547,
          5885,
          5983,
          5678,
          5608,
          6327,
          6671,
          7149,
          6092,
          7534,
          7415,
          7357,
          7551,
          8530,
          9122,
          7770,
          8349,
          8384,
          8501,
          9128,
          7778,
          8565,
          9470,
          10257,
          10819,
          10146,
          10742,
          11096,
          11891,
          12710,
          14135,
          15833,
          13766,
          14851,
          15631,
          16404,
          15440,
          17881,
          19161,
          15390,
          16673,
          17338,
          16446,
          18036,
          15293,
          17775,
          17069,
          16699,
          17291,
          17047,
          17367,
          17003,
          18293,
          16577,
          12671
         ],
         "y": [
          29749927.07790851,
          29736063.9059058,
          29783429.743581712,
          29794212.210694928,
          29785355.184137642,
          29791516.593916625,
          29801143.79669628,
          29702176.152121413,
          29730672.672349196,
          29686772.62767396,
          29757628.840132233,
          29793442.034472555,
          29770336.74780138,
          29721815.64579191,
          29776498.15758036,
          29781119.214914594,
          29769181.48346782,
          29796137.651250858,
          29750697.25413088,
          29770336.74780138,
          29675605.07244956,
          29741840.227573596,
          29764175.3380224,
          29749927.07790851,
          29759169.19257698,
          29880471.947600648,
          29930918.49016605,
          29928993.04961012,
          29949017.6313918,
          29918980.758719277,
          29937464.988056216,
          29905117.58671657,
          29913589.525162667,
          29917055.318163343,
          29857751.74904066,
          29896260.560159285,
          29863528.070708454,
          29886633.35737963,
          29880471.947600648,
          29868149.12804269,
          29878931.595155906,
          29875080.714044042,
          29952098.336281292,
          29883167.564378954,
          29947477.27894706,
          29952483.42439248,
          29924757.080387067,
          29977129.0635084,
          29949402.71950299,
          29933999.19505554,
          29973663.270507723,
          29975203.62295247,
          29870844.744820993,
          29762249.89746647,
          29773032.364579685,
          29808460.47080882,
          29801913.972918652,
          29836571.902925417,
          29826559.612034574,
          30129623.955538157,
          30101512.52342156,
          30073786.17941615,
          30144642.39187442,
          30162741.533100177,
          30264404.794453345,
          30459259.378713593,
          30543593.675063383,
          30641791.14341588,
          30689156.981091786,
          30646797.2888613,
          30683765.74753518,
          30674523.63286671,
          30757702.66488294,
          30788509.71377784,
          31036121.369270604,
          31523257.82992122,
          31588337.720711697,
          31467034.965688024,
          31597194.74726898,
          31634933.38216523,
          31517481.508253425,
          31490525.340470385,
          31767403.692413304,
          31899874.002661377,
          32083946.119808406,
          31676907.986284535,
          32232205.042615116,
          32186379.55738395,
          32164044.446935147,
          32238751.540505283,
          32615752.80135663,
          32843724.96317889,
          32323085.836855073,
          32546051.853231914,
          32559529.937123433,
          32604585.246132225,
          32846035.49184601,
          32326166.541744564,
          32629230.885248147,
          32977735.625871707,
          33280799.96937529,
          33497219.48786197,
          33238055.189033616,
          33467567.703300625,
          33603888.89466056,
          33910033.94305363,
          34225421.10611518,
          34774171.664555594,
          35428051.27734986,
          34632074.15152787,
          35049894.75216495,
          35350263.47889023,
          35647936.58883721,
          35276711.64965366,
          36216711.72905931,
          36709624.511377715,
          35257457.24409434,
          35751525.29074631,
          36007608.88468517,
          35664110.28950703,
          36276400.38629318,
          35220103.69730928,
          36175892.38927357,
          35904020.18277607,
          35761537.58163715,
          35989509.74345942,
          35895548.244329974,
          36018776.43990957,
          35878604.36743777,
          36375368.030868046,
          35714556.83207243,
          34210402.66977891
         ]
        }
       ],
       "layout": {
        "annotations": [
         {
          "showarrow": false,
          "text": "상관계수: 0.493",
          "x": -0.1,
          "xref": "paper",
          "y": 1.1,
          "yref": "paper"
         }
        ],
        "height": 600,
        "hovermode": "x",
        "template": {
         "data": {
          "bar": [
           {
            "error_x": {
             "color": "#2a3f5f"
            },
            "error_y": {
             "color": "#2a3f5f"
            },
            "marker": {
             "line": {
              "color": "#E5ECF6",
              "width": 0.5
             },
             "pattern": {
              "fillmode": "overlay",
              "size": 10,
              "solidity": 0.2
             }
            },
            "type": "bar"
           }
          ],
          "barpolar": [
           {
            "marker": {
             "line": {
              "color": "#E5ECF6",
              "width": 0.5
             },
             "pattern": {
              "fillmode": "overlay",
              "size": 10,
              "solidity": 0.2
             }
            },
            "type": "barpolar"
           }
          ],
          "carpet": [
           {
            "aaxis": {
             "endlinecolor": "#2a3f5f",
             "gridcolor": "white",
             "linecolor": "white",
             "minorgridcolor": "white",
             "startlinecolor": "#2a3f5f"
            },
            "baxis": {
             "endlinecolor": "#2a3f5f",
             "gridcolor": "white",
             "linecolor": "white",
             "minorgridcolor": "white",
             "startlinecolor": "#2a3f5f"
            },
            "type": "carpet"
           }
          ],
          "choropleth": [
           {
            "colorbar": {
             "outlinewidth": 0,
             "ticks": ""
            },
            "type": "choropleth"
           }
          ],
          "contour": [
           {
            "colorbar": {
             "outlinewidth": 0,
             "ticks": ""
            },
            "colorscale": [
             [
              0,
              "#0d0887"
             ],
             [
              0.1111111111111111,
              "#46039f"
             ],
             [
              0.2222222222222222,
              "#7201a8"
             ],
             [
              0.3333333333333333,
              "#9c179e"
             ],
             [
              0.4444444444444444,
              "#bd3786"
             ],
             [
              0.5555555555555556,
              "#d8576b"
             ],
             [
              0.6666666666666666,
              "#ed7953"
             ],
             [
              0.7777777777777778,
              "#fb9f3a"
             ],
             [
              0.8888888888888888,
              "#fdca26"
             ],
             [
              1,
              "#f0f921"
             ]
            ],
            "type": "contour"
           }
          ],
          "contourcarpet": [
           {
            "colorbar": {
             "outlinewidth": 0,
             "ticks": ""
            },
            "type": "contourcarpet"
           }
          ],
          "heatmap": [
           {
            "colorbar": {
             "outlinewidth": 0,
             "ticks": ""
            },
            "colorscale": [
             [
              0,
              "#0d0887"
             ],
             [
              0.1111111111111111,
              "#46039f"
             ],
             [
              0.2222222222222222,
              "#7201a8"
             ],
             [
              0.3333333333333333,
              "#9c179e"
             ],
             [
              0.4444444444444444,
              "#bd3786"
             ],
             [
              0.5555555555555556,
              "#d8576b"
             ],
             [
              0.6666666666666666,
              "#ed7953"
             ],
             [
              0.7777777777777778,
              "#fb9f3a"
             ],
             [
              0.8888888888888888,
              "#fdca26"
             ],
             [
              1,
              "#f0f921"
             ]
            ],
            "type": "heatmap"
           }
          ],
          "heatmapgl": [
           {
            "colorbar": {
             "outlinewidth": 0,
             "ticks": ""
            },
            "colorscale": [
             [
              0,
              "#0d0887"
             ],
             [
              0.1111111111111111,
              "#46039f"
             ],
             [
              0.2222222222222222,
              "#7201a8"
             ],
             [
              0.3333333333333333,
              "#9c179e"
             ],
             [
              0.4444444444444444,
              "#bd3786"
             ],
             [
              0.5555555555555556,
              "#d8576b"
             ],
             [
              0.6666666666666666,
              "#ed7953"
             ],
             [
              0.7777777777777778,
              "#fb9f3a"
             ],
             [
              0.8888888888888888,
              "#fdca26"
             ],
             [
              1,
              "#f0f921"
             ]
            ],
            "type": "heatmapgl"
           }
          ],
          "histogram": [
           {
            "marker": {
             "pattern": {
              "fillmode": "overlay",
              "size": 10,
              "solidity": 0.2
             }
            },
            "type": "histogram"
           }
          ],
          "histogram2d": [
           {
            "colorbar": {
             "outlinewidth": 0,
             "ticks": ""
            },
            "colorscale": [
             [
              0,
              "#0d0887"
             ],
             [
              0.1111111111111111,
              "#46039f"
             ],
             [
              0.2222222222222222,
              "#7201a8"
             ],
             [
              0.3333333333333333,
              "#9c179e"
             ],
             [
              0.4444444444444444,
              "#bd3786"
             ],
             [
              0.5555555555555556,
              "#d8576b"
             ],
             [
              0.6666666666666666,
              "#ed7953"
             ],
             [
              0.7777777777777778,
              "#fb9f3a"
             ],
             [
              0.8888888888888888,
              "#fdca26"
             ],
             [
              1,
              "#f0f921"
             ]
            ],
            "type": "histogram2d"
           }
          ],
          "histogram2dcontour": [
           {
            "colorbar": {
             "outlinewidth": 0,
             "ticks": ""
            },
            "colorscale": [
             [
              0,
              "#0d0887"
             ],
             [
              0.1111111111111111,
              "#46039f"
             ],
             [
              0.2222222222222222,
              "#7201a8"
             ],
             [
              0.3333333333333333,
              "#9c179e"
             ],
             [
              0.4444444444444444,
              "#bd3786"
             ],
             [
              0.5555555555555556,
              "#d8576b"
             ],
             [
              0.6666666666666666,
              "#ed7953"
             ],
             [
              0.7777777777777778,
              "#fb9f3a"
             ],
             [
              0.8888888888888888,
              "#fdca26"
             ],
             [
              1,
              "#f0f921"
             ]
            ],
            "type": "histogram2dcontour"
           }
          ],
          "mesh3d": [
           {
            "colorbar": {
             "outlinewidth": 0,
             "ticks": ""
            },
            "type": "mesh3d"
           }
          ],
          "parcoords": [
           {
            "line": {
             "colorbar": {
              "outlinewidth": 0,
              "ticks": ""
             }
            },
            "type": "parcoords"
           }
          ],
          "pie": [
           {
            "automargin": true,
            "type": "pie"
           }
          ],
          "scatter": [
           {
            "fillpattern": {
             "fillmode": "overlay",
             "size": 10,
             "solidity": 0.2
            },
            "type": "scatter"
           }
          ],
          "scatter3d": [
           {
            "line": {
             "colorbar": {
              "outlinewidth": 0,
              "ticks": ""
             }
            },
            "marker": {
             "colorbar": {
              "outlinewidth": 0,
              "ticks": ""
             }
            },
            "type": "scatter3d"
           }
          ],
          "scattercarpet": [
           {
            "marker": {
             "colorbar": {
              "outlinewidth": 0,
              "ticks": ""
             }
            },
            "type": "scattercarpet"
           }
          ],
          "scattergeo": [
           {
            "marker": {
             "colorbar": {
              "outlinewidth": 0,
              "ticks": ""
             }
            },
            "type": "scattergeo"
           }
          ],
          "scattergl": [
           {
            "marker": {
             "colorbar": {
              "outlinewidth": 0,
              "ticks": ""
             }
            },
            "type": "scattergl"
           }
          ],
          "scattermapbox": [
           {
            "marker": {
             "colorbar": {
              "outlinewidth": 0,
              "ticks": ""
             }
            },
            "type": "scattermapbox"
           }
          ],
          "scatterpolar": [
           {
            "marker": {
             "colorbar": {
              "outlinewidth": 0,
              "ticks": ""
             }
            },
            "type": "scatterpolar"
           }
          ],
          "scatterpolargl": [
           {
            "marker": {
             "colorbar": {
              "outlinewidth": 0,
              "ticks": ""
             }
            },
            "type": "scatterpolargl"
           }
          ],
          "scatterternary": [
           {
            "marker": {
             "colorbar": {
              "outlinewidth": 0,
              "ticks": ""
             }
            },
            "type": "scatterternary"
           }
          ],
          "surface": [
           {
            "colorbar": {
             "outlinewidth": 0,
             "ticks": ""
            },
            "colorscale": [
             [
              0,
              "#0d0887"
             ],
             [
              0.1111111111111111,
              "#46039f"
             ],
             [
              0.2222222222222222,
              "#7201a8"
             ],
             [
              0.3333333333333333,
              "#9c179e"
             ],
             [
              0.4444444444444444,
              "#bd3786"
             ],
             [
              0.5555555555555556,
              "#d8576b"
             ],
             [
              0.6666666666666666,
              "#ed7953"
             ],
             [
              0.7777777777777778,
              "#fb9f3a"
             ],
             [
              0.8888888888888888,
              "#fdca26"
             ],
             [
              1,
              "#f0f921"
             ]
            ],
            "type": "surface"
           }
          ],
          "table": [
           {
            "cells": {
             "fill": {
              "color": "#EBF0F8"
             },
             "line": {
              "color": "white"
             }
            },
            "header": {
             "fill": {
              "color": "#C8D4E3"
             },
             "line": {
              "color": "white"
             }
            },
            "type": "table"
           }
          ]
         },
         "layout": {
          "annotationdefaults": {
           "arrowcolor": "#2a3f5f",
           "arrowhead": 0,
           "arrowwidth": 1
          },
          "autotypenumbers": "strict",
          "coloraxis": {
           "colorbar": {
            "outlinewidth": 0,
            "ticks": ""
           }
          },
          "colorscale": {
           "diverging": [
            [
             0,
             "#8e0152"
            ],
            [
             0.1,
             "#c51b7d"
            ],
            [
             0.2,
             "#de77ae"
            ],
            [
             0.3,
             "#f1b6da"
            ],
            [
             0.4,
             "#fde0ef"
            ],
            [
             0.5,
             "#f7f7f7"
            ],
            [
             0.6,
             "#e6f5d0"
            ],
            [
             0.7,
             "#b8e186"
            ],
            [
             0.8,
             "#7fbc41"
            ],
            [
             0.9,
             "#4d9221"
            ],
            [
             1,
             "#276419"
            ]
           ],
           "sequential": [
            [
             0,
             "#0d0887"
            ],
            [
             0.1111111111111111,
             "#46039f"
            ],
            [
             0.2222222222222222,
             "#7201a8"
            ],
            [
             0.3333333333333333,
             "#9c179e"
            ],
            [
             0.4444444444444444,
             "#bd3786"
            ],
            [
             0.5555555555555556,
             "#d8576b"
            ],
            [
             0.6666666666666666,
             "#ed7953"
            ],
            [
             0.7777777777777778,
             "#fb9f3a"
            ],
            [
             0.8888888888888888,
             "#fdca26"
            ],
            [
             1,
             "#f0f921"
            ]
           ],
           "sequentialminus": [
            [
             0,
             "#0d0887"
            ],
            [
             0.1111111111111111,
             "#46039f"
            ],
            [
             0.2222222222222222,
             "#7201a8"
            ],
            [
             0.3333333333333333,
             "#9c179e"
            ],
            [
             0.4444444444444444,
             "#bd3786"
            ],
            [
             0.5555555555555556,
             "#d8576b"
            ],
            [
             0.6666666666666666,
             "#ed7953"
            ],
            [
             0.7777777777777778,
             "#fb9f3a"
            ],
            [
             0.8888888888888888,
             "#fdca26"
            ],
            [
             1,
             "#f0f921"
            ]
           ]
          },
          "colorway": [
           "#636efa",
           "#EF553B",
           "#00cc96",
           "#ab63fa",
           "#FFA15A",
           "#19d3f3",
           "#FF6692",
           "#B6E880",
           "#FF97FF",
           "#FECB52"
          ],
          "font": {
           "color": "#2a3f5f"
          },
          "geo": {
           "bgcolor": "white",
           "lakecolor": "white",
           "landcolor": "#E5ECF6",
           "showlakes": true,
           "showland": true,
           "subunitcolor": "white"
          },
          "hoverlabel": {
           "align": "left"
          },
          "hovermode": "closest",
          "mapbox": {
           "style": "light"
          },
          "paper_bgcolor": "white",
          "plot_bgcolor": "#E5ECF6",
          "polar": {
           "angularaxis": {
            "gridcolor": "white",
            "linecolor": "white",
            "ticks": ""
           },
           "bgcolor": "#E5ECF6",
           "radialaxis": {
            "gridcolor": "white",
            "linecolor": "white",
            "ticks": ""
           }
          },
          "scene": {
           "xaxis": {
            "backgroundcolor": "#E5ECF6",
            "gridcolor": "white",
            "gridwidth": 2,
            "linecolor": "white",
            "showbackground": true,
            "ticks": "",
            "zerolinecolor": "white"
           },
           "yaxis": {
            "backgroundcolor": "#E5ECF6",
            "gridcolor": "white",
            "gridwidth": 2,
            "linecolor": "white",
            "showbackground": true,
            "ticks": "",
            "zerolinecolor": "white"
           },
           "zaxis": {
            "backgroundcolor": "#E5ECF6",
            "gridcolor": "white",
            "gridwidth": 2,
            "linecolor": "white",
            "showbackground": true,
            "ticks": "",
            "zerolinecolor": "white"
           }
          },
          "shapedefaults": {
           "line": {
            "color": "#2a3f5f"
           }
          },
          "ternary": {
           "aaxis": {
            "gridcolor": "white",
            "linecolor": "white",
            "ticks": ""
           },
           "baxis": {
            "gridcolor": "white",
            "linecolor": "white",
            "ticks": ""
           },
           "bgcolor": "#E5ECF6",
           "caxis": {
            "gridcolor": "white",
            "linecolor": "white",
            "ticks": ""
           }
          },
          "title": {
           "x": 0.05
          },
          "xaxis": {
           "automargin": true,
           "gridcolor": "white",
           "linecolor": "white",
           "ticks": "",
           "title": {
            "standoff": 15
           },
           "zerolinecolor": "white",
           "zerolinewidth": 2
          },
          "yaxis": {
           "automargin": true,
           "gridcolor": "white",
           "linecolor": "white",
           "ticks": "",
           "title": {
            "standoff": 15
           },
           "zerolinecolor": "white",
           "zerolinewidth": 2
          }
         }
        },
        "title": {
         "text": "물동량 - 체류시간"
        },
        "width": 600,
        "xaxis": {
         "title": {
          "text": "체류시간(단위:시간)"
         }
        },
        "yaxis": {
         "title": {
          "text": "물동량(단위:ton)"
         }
        }
       }
      }
     },
     "metadata": {},
     "output_type": "display_data"
    }
   ],
   "source": [
    "import plotly.graph_objects as go\n",
    "fig=go.Figure()\n",
    "fig.add_trace(go.Scatter(x=shipment_stayed_df['체류시간_totalTime(시간)'],y=shipment_stayed_df['컨테이너'],\n",
    "                         mode='markers',name='실측값',\n",
    "                         # 호버 시 출력되는 정보 설정\n",
    "                         hovertemplate='<b>년도:</b> %{text}',\n",
    "                         # 호버탬플릿의 text 선언\n",
    "                         text=shipment_stayed_df[['년도', '월']].apply(lambda x: f'{x[0]}년 {x[1]}월', axis=1)))\n",
    "\n",
    "# 추세선을 추가합니다.\n",
    "fig.add_trace(go.Scatter(\n",
    "    x=shipment_stayed_df['체류시간_totalTime(시간)'],\n",
    "    # 추세선 값\n",
    "    y=np.poly1d(np.polyfit(shipment_stayed_df['체류시간_totalTime(시간)'], shipment_stayed_df['컨테이너'], 1))\\\n",
    "        (shipment_stayed_df['체류시간_totalTime(시간)']),\n",
    "    mode='lines',line=dict(color='red', width=2),\n",
    "    name='추세선'\n",
    "))\n",
    "\n",
    "fig.update_layout(title='물동량 - 체류시간',\n",
    "                  xaxis=dict(title='체류시간(단위:시간)'),\n",
    "                  yaxis=dict(title='물동량(단위:ton)'),\n",
    "                  width=600,height=600,\n",
    "                  # 마우스 위치의 x좌표를 기준으로 동일 위치에 있는 포인트의 정보 출력\n",
    "                  hovermode='x',\n",
    "                  # 상관계수 표시하기 위함\n",
    "                  annotations=[\n",
    "                      dict(x=-0.1,\n",
    "                           y=1.1,\n",
    "                           xref='paper',\n",
    "                           yref='paper',\n",
    "                           text=f'상관계수: {round(corr1[1,0],3)}',\n",
    "                           showarrow=False)])"
   ]
  },
  {
   "cell_type": "markdown",
   "metadata": {},
   "source": [
    "##### +α 정규화 진행 후 시각화\n",
    "* 정규화 하는 이유 : 단위에 따른 분석 결과의 오류를 없애기 위해"
   ]
  },
  {
   "cell_type": "code",
   "execution_count": 12,
   "metadata": {},
   "outputs": [],
   "source": [
    "# 년/월 column 생성\n",
    "# 정규화를 하기 위해선 column에 정규화를 진행할 변수만 남아 있어야 하므로\n",
    "# 기존 데이터프레임에서 년/월 column을 생성 후 정규화를 진행한 데이터 프레임에 덧붙이기 위함\n",
    "y_m=[]\n",
    "for i in range(len(shipment_stayed_df)):\n",
    "    y_m.append(str(shipment_stayed_df['년도'][i])+'-'+str(shipment_stayed_df['월'][i]))\n",
    "shipment_stayed_df['년/월']=y_m\n",
    "shipment_stayed_df['년/월']=pd.to_datetime(shipment_stayed_df['년/월'])\n",
    "shipment_stayed_df=shipment_stayed_df.iloc[:,2:-1]"
   ]
  },
  {
   "cell_type": "code",
   "execution_count": 14,
   "metadata": {},
   "outputs": [],
   "source": [
    "# minmaxscaler : 정규화\n",
    "from sklearn.preprocessing import MinMaxScaler\n",
    "scaler=MinMaxScaler()  #sclaer 선언\n",
    "scaled_df=pd.DataFrame(\n",
    "    scaler.fit_transform(shipment_stayed_df),columns=shipment_stayed_df.columns)  #체류시간, 물동량 정규화"
   ]
  },
  {
   "cell_type": "code",
   "execution_count": 24,
   "metadata": {},
   "outputs": [],
   "source": [
    "scaled_df['년/월']=y_m"
   ]
  },
  {
   "cell_type": "code",
   "execution_count": 25,
   "metadata": {},
   "outputs": [
    {
     "data": {
      "text/html": [
       "<div>\n",
       "<style scoped>\n",
       "    .dataframe tbody tr th:only-of-type {\n",
       "        vertical-align: middle;\n",
       "    }\n",
       "\n",
       "    .dataframe tbody tr th {\n",
       "        vertical-align: top;\n",
       "    }\n",
       "\n",
       "    .dataframe thead th {\n",
       "        text-align: right;\n",
       "    }\n",
       "</style>\n",
       "<table border=\"1\" class=\"dataframe\">\n",
       "  <thead>\n",
       "    <tr style=\"text-align: right;\">\n",
       "      <th></th>\n",
       "      <th>컨테이너</th>\n",
       "      <th>체류시간_totalTime(시간)</th>\n",
       "      <th>년/월</th>\n",
       "    </tr>\n",
       "  </thead>\n",
       "  <tbody>\n",
       "    <tr>\n",
       "      <th>0</th>\n",
       "      <td>0.097572</td>\n",
       "      <td>0.010566</td>\n",
       "      <td>2013-1</td>\n",
       "    </tr>\n",
       "    <tr>\n",
       "      <th>1</th>\n",
       "      <td>0.000000</td>\n",
       "      <td>0.008595</td>\n",
       "      <td>2013-2</td>\n",
       "    </tr>\n",
       "    <tr>\n",
       "      <th>2</th>\n",
       "      <td>0.205185</td>\n",
       "      <td>0.015329</td>\n",
       "      <td>2013-3</td>\n",
       "    </tr>\n",
       "    <tr>\n",
       "      <th>3</th>\n",
       "      <td>0.197289</td>\n",
       "      <td>0.016862</td>\n",
       "      <td>2013-4</td>\n",
       "    </tr>\n",
       "    <tr>\n",
       "      <th>4</th>\n",
       "      <td>0.173105</td>\n",
       "      <td>0.015603</td>\n",
       "      <td>2013-5</td>\n",
       "    </tr>\n",
       "    <tr>\n",
       "      <th>...</th>\n",
       "      <td>...</td>\n",
       "      <td>...</td>\n",
       "      <td>...</td>\n",
       "    </tr>\n",
       "    <tr>\n",
       "      <th>127</th>\n",
       "      <td>0.598511</td>\n",
       "      <td>0.901785</td>\n",
       "      <td>2023-8</td>\n",
       "    </tr>\n",
       "    <tr>\n",
       "      <th>128</th>\n",
       "      <td>0.642204</td>\n",
       "      <td>0.881857</td>\n",
       "      <td>2023-9</td>\n",
       "    </tr>\n",
       "    <tr>\n",
       "      <th>129</th>\n",
       "      <td>0.578086</td>\n",
       "      <td>0.952480</td>\n",
       "      <td>2023-10</td>\n",
       "    </tr>\n",
       "    <tr>\n",
       "      <th>130</th>\n",
       "      <td>0.645874</td>\n",
       "      <td>0.858535</td>\n",
       "      <td>2023-11</td>\n",
       "    </tr>\n",
       "    <tr>\n",
       "      <th>131</th>\n",
       "      <td>0.589112</td>\n",
       "      <td>0.644695</td>\n",
       "      <td>2023-12</td>\n",
       "    </tr>\n",
       "  </tbody>\n",
       "</table>\n",
       "<p>132 rows × 3 columns</p>\n",
       "</div>"
      ],
      "text/plain": [
       "         컨테이너  체류시간_totalTime(시간)      년/월\n",
       "0    0.097572            0.010566   2013-1\n",
       "1    0.000000            0.008595   2013-2\n",
       "2    0.205185            0.015329   2013-3\n",
       "3    0.197289            0.016862   2013-4\n",
       "4    0.173105            0.015603   2013-5\n",
       "..        ...                 ...      ...\n",
       "127  0.598511            0.901785   2023-8\n",
       "128  0.642204            0.881857   2023-9\n",
       "129  0.578086            0.952480  2023-10\n",
       "130  0.645874            0.858535  2023-11\n",
       "131  0.589112            0.644695  2023-12\n",
       "\n",
       "[132 rows x 3 columns]"
      ]
     },
     "execution_count": 25,
     "metadata": {},
     "output_type": "execute_result"
    }
   ],
   "source": [
    "scaled_df"
   ]
  },
  {
   "cell_type": "markdown",
   "metadata": {},
   "source": [
    "##### +α_1 정규화 후 상관분석 및 산점도 시각화"
   ]
  },
  {
   "cell_type": "code",
   "execution_count": 26,
   "metadata": {},
   "outputs": [
    {
     "data": {
      "text/plain": [
       "PearsonRResult(statistic=0.4933140536209876, pvalue=1.8585102279594906e-09)"
      ]
     },
     "execution_count": 26,
     "metadata": {},
     "output_type": "execute_result"
    }
   ],
   "source": [
    "# 상관계수_2\n",
    "# pvalue : 상관계수가 유의미한 정도\n",
    "# pvalue가 매우 작으므로 상관계수가 유의미하다고 할 수 있음\n",
    "import scipy.stats as stats\n",
    "corr2=stats.pearsonr(scaled_df['체류시간_totalTime(시간)'],scaled_df['컨테이너'])\n",
    "corr2"
   ]
  },
  {
   "cell_type": "code",
   "execution_count": 28,
   "metadata": {},
   "outputs": [
    {
     "data": {
      "application/vnd.plotly.v1+json": {
       "config": {
        "plotlyServerURL": "https://plot.ly"
       },
       "data": [
        {
         "hovertemplate": "<b>년도:</b> %{text}",
         "mode": "markers",
         "name": "실측값",
         "text": [
          "2013-1",
          "2013-2",
          "2013-3",
          "2013-4",
          "2013-5",
          "2013-6",
          "2013-7",
          "2013-8",
          "2013-9",
          "2013-10",
          "2013-11",
          "2013-12",
          "2014-1",
          "2014-2",
          "2014-3",
          "2014-4",
          "2014-5",
          "2014-6",
          "2014-7",
          "2014-8",
          "2014-9",
          "2014-10",
          "2014-11",
          "2014-12",
          "2015-1",
          "2015-2",
          "2015-3",
          "2015-4",
          "2015-5",
          "2015-6",
          "2015-7",
          "2015-8",
          "2015-9",
          "2015-10",
          "2015-11",
          "2015-12",
          "2016-1",
          "2016-2",
          "2016-3",
          "2016-4",
          "2016-5",
          "2016-6",
          "2016-7",
          "2016-8",
          "2016-9",
          "2016-10",
          "2016-11",
          "2016-12",
          "2017-1",
          "2017-2",
          "2017-3",
          "2017-4",
          "2017-5",
          "2017-6",
          "2017-7",
          "2017-8",
          "2017-9",
          "2017-10",
          "2017-11",
          "2017-12",
          "2018-1",
          "2018-2",
          "2018-3",
          "2018-4",
          "2018-5",
          "2018-6",
          "2018-7",
          "2018-8",
          "2018-9",
          "2018-10",
          "2018-11",
          "2018-12",
          "2019-1",
          "2019-2",
          "2019-3",
          "2019-4",
          "2019-5",
          "2019-6",
          "2019-7",
          "2019-8",
          "2019-9",
          "2019-10",
          "2019-11",
          "2019-12",
          "2020-1",
          "2020-2",
          "2020-3",
          "2020-4",
          "2020-5",
          "2020-6",
          "2020-7",
          "2020-8",
          "2020-9",
          "2020-10",
          "2020-11",
          "2020-12",
          "2021-1",
          "2021-2",
          "2021-3",
          "2021-4",
          "2021-5",
          "2021-6",
          "2021-7",
          "2021-8",
          "2021-9",
          "2021-10",
          "2021-11",
          "2021-12",
          "2022-1",
          "2022-2",
          "2022-3",
          "2022-4",
          "2022-5",
          "2022-6",
          "2022-7",
          "2022-8",
          "2022-9",
          "2022-10",
          "2022-11",
          "2022-12",
          "2023-1",
          "2023-2",
          "2023-3",
          "2023-4",
          "2023-5",
          "2023-6",
          "2023-7",
          "2023-8",
          "2023-9",
          "2023-10",
          "2023-11",
          "2023-12"
         ],
         "type": "scatter",
         "x": [
          0.01056607905398007,
          0.00859520420453301,
          0.015329026606810466,
          0.016861929267491506,
          0.01560275922478923,
          0.016478703602321253,
          0.017847366692215046,
          0.003777510128106863,
          0.007828752874192484,
          0.0015876491842767987,
          0.011661009525895105,
          0.016752436220300003,
          0.01346764480455491,
          0.0065695828314902005,
          0.01434358918208694,
          0.015000547465235957,
          0.013303405233767655,
          0.01713566188547027,
          0.010675572101171572,
          0.01346764480455491,
          0,
          0.009416402058469282,
          0.01259170042702288,
          0.01056607905398007,
          0.011879995620278111,
          0.029125150552939884,
          0.03629694514398336,
          0.03602321252600459,
          0.03887003175298368,
          0.034599802912515056,
          0.03722763604511114,
          0.03262892806306799,
          0.033833351582174535,
          0.03432607029453629,
          0.025895105660790542,
          0.0313697580203657,
          0.026716303514726807,
          0.030001094930471907,
          0.029125150552939884,
          0.027373261797875838,
          0.028906164458556878,
          0.028358699222599364,
          0.03930800394174969,
          0.02950837621811015,
          0.038651045658600676,
          0.03936275046534545,
          0.035421000766451334,
          0.04286652797547356,
          0.03892477827657944,
          0.03673491733274937,
          0.04237380926311179,
          0.04259279535749479,
          0.02775648746304609,
          0.012317967809044122,
          0.01385087046972517,
          0.01888755064053433,
          0.01795685973940655,
          0.022884046863024192,
          0.021460637249534655,
          0.0645461513193912,
          0.06054965509690135,
          0.05660790539800723,
          0.06668126573962554,
          0.06925435234862587,
          0.0837074345779043,
          0.11140917551735466,
          0.12339866418482426,
          0.13735902770174094,
          0.1440928501040184,
          0.13807073250848573,
          0.14332639877367787,
          0.14201248220737983,
          0.1538377313040622,
          0.15821745319172234,
          0.19341946786379066,
          0.26267382021241653,
          0.27192598270009855,
          0.2546808277674368,
          0.27318515274280086,
          0.2785503120551845,
          0.2618526223584802,
          0.2580203657067776,
          0.2973831161721231,
          0.31621592028906165,
          0.34238475856783096,
          0.28451768312712145,
          0.36346217015219534,
          0.3569473338443009,
          0.3537720354757473,
          0.36439286105332314,
          0.417989707653564,
          0.450399649622249,
          0.3763823497207927,
          0.40808058688273297,
          0.4099967152085843,
          0.4164020584692872,
          0.4507281287638235,
          0.3768203219095588,
          0.41990583597941533,
          0.46945143983357057,
          0.5125369539034271,
          0.5433045001642395,
          0.5064600897842987,
          0.5390890178473666,
          0.5584692872002628,
          0.6019927734588854,
          0.6468301762838059,
          0.7248439724077521,
          0.8178035694733384,
          0.7046425052009196,
          0.7640424833023103,
          0.8067447717069965,
          0.8490638344465126,
          0.796288185700208,
          0.9299244497974378,
          0.9999999999999999,
          0.7935508595204204,
          0.8637906492937698,
          0.9001970874849446,
          0.8513631884375342,
          0.9384101609547794,
          0.7882404467316325,
          0.9241213182962882,
          0.8854702726376874,
          0.8652140589072593,
          0.8976240008759443,
          0.884265849118581,
          0.9017847366692214,
          0.8818570020803679,
          0.9524800175188876,
          0.8585349830285777,
          0.6446950618635716
         ],
         "y": [
          0.09757178495436558,
          0,
          0.20518518043823053,
          0.1972886106861702,
          0.1731045468379575,
          0.1818785397979119,
          0.19098251695879687,
          0.1336295890041994,
          0.11822659603793229,
          0.1646979841121694,
          0.1597553468440025,
          0.21050921248935683,
          0.22655089226771463,
          0.02637491982340401,
          0.30236241906539685,
          0.290198962300118,
          0.23372685304301877,
          0.27101549816232273,
          0.2697762879283363,
          0.2476924539595522,
          0.2143965220239108,
          0.33155693432625744,
          0.21675877848839686,
          0.24669508866818957,
          0.3148237224398631,
          0.25223289309296204,
          0.3154350062161373,
          0.30547173106651093,
          0.29303720901849695,
          0.2880698946709561,
          0.3042095654098509,
          0.28743316863455215,
          0.28753919399302497,
          0.27563575521331996,
          0.2219309699832981,
          0.28393136672952,
          0.23181920959506064,
          0.2432751611040258,
          0.32917597875705185,
          0.257342291942092,
          0.31413262074600157,
          0.28085581832925466,
          0.3777983855833824,
          0.3187386263054224,
          0.2931342913268866,
          0.3713391600572584,
          0.29489659825504355,
          0.2862414474312214,
          0.4817339875883855,
          0.19633902136824655,
          0.4684548494573817,
          0.5124035800512021,
          0.4167294911949695,
          0.8250361117492933,
          0.5222008588006213,
          0.39245843585958395,
          0.35925810369461786,
          0.3868246968975555,
          0.41994415902139504,
          0.49576376804081024,
          0.39074404837625787,
          0.3881252650633962,
          0.4101744746029812,
          0.6447972108396272,
          1,
          0.7903176609648586,
          0.9729688420309199,
          0.7545112187932985,
          0.8055685742559144,
          0.7725195565854039,
          0.8004485107000008,
          0.7966298283144808,
          0.611391236346545,
          0.5510553468631321,
          0.7242095826264179,
          0.6438261008129471,
          0.7487362083342342,
          0.8873292379583984,
          0.8832114655449628,
          0.9515328292194984,
          0.6842394093722783,
          0.7563036068899172,
          0.6517393132464457,
          0.8019361655606299,
          0.5315526588787844,
          0.3889804023817782,
          0.6097735007574334,
          0.43116677822364435,
          0.3825171596566863,
          0.4380675130458538,
          0.4815766472954781,
          0.47462354541529517,
          0.4923629221717436,
          0.6408397437945277,
          0.6824189487066818,
          0.6140357488623198,
          0.5897055833135503,
          0.4432832241962399,
          0.6847189385871664,
          0.6697478901575373,
          0.714107140226834,
          0.6562209291092551,
          0.7019337361117302,
          0.6194834054293019,
          0.5910776480562592,
          0.7192599630838545,
          0.5903956807076698,
          0.6089397885002132,
          0.7069788597773745,
          0.47755500071448753,
          0.5636396052202928,
          0.5999472407868889,
          0.6591692662088717,
          0.5639524685018125,
          0.750715061416277,
          0.6157841868892782,
          0.3172704835540656,
          0.5353145265931876,
          0.48295703337890616,
          0.42187824902922477,
          0.5737926930211499,
          0.4226194222387927,
          0.6948646615232492,
          0.6700699356081266,
          0.645420163622427,
          0.5680432204698096,
          0.6073331002082631,
          0.598511235627275,
          0.6422041567296788,
          0.5780860265942398,
          0.6458742027533881,
          0.5891121378136452
         ]
        },
        {
         "line": {
          "color": "red",
          "width": 2
         },
         "mode": "lines",
         "name": "추세선",
         "type": "scatter",
         "x": [
          0.01056607905398007,
          0.00859520420453301,
          0.015329026606810466,
          0.016861929267491506,
          0.01560275922478923,
          0.016478703602321253,
          0.017847366692215046,
          0.003777510128106863,
          0.007828752874192484,
          0.0015876491842767987,
          0.011661009525895105,
          0.016752436220300003,
          0.01346764480455491,
          0.0065695828314902005,
          0.01434358918208694,
          0.015000547465235957,
          0.013303405233767655,
          0.01713566188547027,
          0.010675572101171572,
          0.01346764480455491,
          0,
          0.009416402058469282,
          0.01259170042702288,
          0.01056607905398007,
          0.011879995620278111,
          0.029125150552939884,
          0.03629694514398336,
          0.03602321252600459,
          0.03887003175298368,
          0.034599802912515056,
          0.03722763604511114,
          0.03262892806306799,
          0.033833351582174535,
          0.03432607029453629,
          0.025895105660790542,
          0.0313697580203657,
          0.026716303514726807,
          0.030001094930471907,
          0.029125150552939884,
          0.027373261797875838,
          0.028906164458556878,
          0.028358699222599364,
          0.03930800394174969,
          0.02950837621811015,
          0.038651045658600676,
          0.03936275046534545,
          0.035421000766451334,
          0.04286652797547356,
          0.03892477827657944,
          0.03673491733274937,
          0.04237380926311179,
          0.04259279535749479,
          0.02775648746304609,
          0.012317967809044122,
          0.01385087046972517,
          0.01888755064053433,
          0.01795685973940655,
          0.022884046863024192,
          0.021460637249534655,
          0.0645461513193912,
          0.06054965509690135,
          0.05660790539800723,
          0.06668126573962554,
          0.06925435234862587,
          0.0837074345779043,
          0.11140917551735466,
          0.12339866418482426,
          0.13735902770174094,
          0.1440928501040184,
          0.13807073250848573,
          0.14332639877367787,
          0.14201248220737983,
          0.1538377313040622,
          0.15821745319172234,
          0.19341946786379066,
          0.26267382021241653,
          0.27192598270009855,
          0.2546808277674368,
          0.27318515274280086,
          0.2785503120551845,
          0.2618526223584802,
          0.2580203657067776,
          0.2973831161721231,
          0.31621592028906165,
          0.34238475856783096,
          0.28451768312712145,
          0.36346217015219534,
          0.3569473338443009,
          0.3537720354757473,
          0.36439286105332314,
          0.417989707653564,
          0.450399649622249,
          0.3763823497207927,
          0.40808058688273297,
          0.4099967152085843,
          0.4164020584692872,
          0.4507281287638235,
          0.3768203219095588,
          0.41990583597941533,
          0.46945143983357057,
          0.5125369539034271,
          0.5433045001642395,
          0.5064600897842987,
          0.5390890178473666,
          0.5584692872002628,
          0.6019927734588854,
          0.6468301762838059,
          0.7248439724077521,
          0.8178035694733384,
          0.7046425052009196,
          0.7640424833023103,
          0.8067447717069965,
          0.8490638344465126,
          0.796288185700208,
          0.9299244497974378,
          0.9999999999999999,
          0.7935508595204204,
          0.8637906492937698,
          0.9001970874849446,
          0.8513631884375342,
          0.9384101609547794,
          0.7882404467316325,
          0.9241213182962882,
          0.8854702726376874,
          0.8652140589072593,
          0.8976240008759443,
          0.884265849118581,
          0.9017847366692214,
          0.8818570020803679,
          0.9524800175188876,
          0.8585349830285777,
          0.6446950618635716
         ],
         "y": [
          0.38125117182212814,
          0.38058818229521907,
          0.3828533965121584,
          0.38336905503308766,
          0.38294547839089577,
          0.3832401404028553,
          0.3837005497965422,
          0.3789675412294413,
          0.38033035303475443,
          0.3782308861995423,
          0.3816194993370776,
          0.3833322222815927,
          0.3822272397367443,
          0.3799067763925625,
          0.3825219017487038,
          0.38274289825767355,
          0.38217199060950185,
          0.38346113691182504,
          0.38128800457362305,
          0.3822272397367443,
          0.3776968113028656,
          0.38086442793143116,
          0.38193257772478467,
          0.38125117182212814,
          0.3816931648400675,
          0.3874943232005219,
          0.389906868423441,
          0.38981478654470364,
          0.3907724380835723,
          0.38933596077526933,
          0.3902199468111481,
          0.38867297124836026,
          0.3890781315148047,
          0.38924387889653195,
          0.3864077570314209,
          0.3882493946061683,
          0.38668400266763303,
          0.38778898521248145,
          0.3874943232005219,
          0.3869049991766027,
          0.387420657697532,
          0.38723649394005727,
          0.3909197690895521,
          0.3876232378307542,
          0.3906987725805824,
          0.39093818546529957,
          0.3896122064114814,
          0.3921168335131379,
          0.39079085445931977,
          0.3900541994294208,
          0.39195108613141066,
          0.39202475163440054,
          0.38703391380683505,
          0.3818404958460473,
          0.38235615436697656,
          0.3840504609357442,
          0.38373738254803713,
          0.38539485636530985,
          0.3849160305958755,
          0.39940971830913774,
          0.39806532287957214,
          0.396739343825754,
          0.40012795696328923,
          0.4009935266234205,
          0.4058554498207537,
          0.4151741359489757,
          0.41920732223767254,
          0.4239034980532785,
          0.42616871227021785,
          0.42414291093799567,
          0.4259108830097532,
          0.4254688899918138,
          0.42944682715326826,
          0.4309201372130662,
          0.4427618668186921,
          0.46605858213924706,
          0.4691709496405702,
          0.46336979128011585,
          0.4695945262827621,
          0.4713993311060146,
          0.46578233650303497,
          0.4644931902007118,
          0.47773456436314576,
          0.4840697976202769,
          0.4928728252275696,
          0.4734067160624893,
          0.4999631298903472,
          0.49777158117639775,
          0.49670343138304424,
          0.5002762082780543,
          0.5183058401348315,
          0.5292083345773363,
          0.5043093945667511,
          0.5149724761245387,
          0.5156170492757003,
          0.5177717652381548,
          0.5293188328318211,
          0.5044567255727309,
          0.5189504132859931,
          0.5356172333374574,
          0.5501109210507196,
          0.5604609242208001,
          0.54806670334275,
          0.5590428632882446,
          0.5655622603028505,
          0.5802032790220926,
          0.5952862907592739,
          0.6215296261994248,
          0.652800632218636,
          0.6147339835486068,
          0.6347157512346163,
          0.6490805243176462,
          0.6633163827704438,
          0.6455629965498786,
          0.6905173697494633,
          0.7140903307062303,
          0.6446421777625049,
          0.6682703878465144,
          0.6805172777185848,
          0.6640898705518378,
          0.6933719079903218,
          0.642855789315,
          0.6885652339202311,
          0.6755632726425141,
          0.6687492136159487,
          0.6796517080584534,
          0.6751581123760697,
          0.6810513526152615,
          0.6743477918431808,
          0.6981049165574227,
          0.6665024157747569,
          0.5945680521051224
         ]
        }
       ],
       "layout": {
        "annotations": [
         {
          "showarrow": false,
          "text": "상관계수: 0.493",
          "x": -0.1,
          "xref": "paper",
          "y": 1.1,
          "yref": "paper"
         }
        ],
        "height": 600,
        "hovermode": "x",
        "template": {
         "data": {
          "bar": [
           {
            "error_x": {
             "color": "#2a3f5f"
            },
            "error_y": {
             "color": "#2a3f5f"
            },
            "marker": {
             "line": {
              "color": "#E5ECF6",
              "width": 0.5
             },
             "pattern": {
              "fillmode": "overlay",
              "size": 10,
              "solidity": 0.2
             }
            },
            "type": "bar"
           }
          ],
          "barpolar": [
           {
            "marker": {
             "line": {
              "color": "#E5ECF6",
              "width": 0.5
             },
             "pattern": {
              "fillmode": "overlay",
              "size": 10,
              "solidity": 0.2
             }
            },
            "type": "barpolar"
           }
          ],
          "carpet": [
           {
            "aaxis": {
             "endlinecolor": "#2a3f5f",
             "gridcolor": "white",
             "linecolor": "white",
             "minorgridcolor": "white",
             "startlinecolor": "#2a3f5f"
            },
            "baxis": {
             "endlinecolor": "#2a3f5f",
             "gridcolor": "white",
             "linecolor": "white",
             "minorgridcolor": "white",
             "startlinecolor": "#2a3f5f"
            },
            "type": "carpet"
           }
          ],
          "choropleth": [
           {
            "colorbar": {
             "outlinewidth": 0,
             "ticks": ""
            },
            "type": "choropleth"
           }
          ],
          "contour": [
           {
            "colorbar": {
             "outlinewidth": 0,
             "ticks": ""
            },
            "colorscale": [
             [
              0,
              "#0d0887"
             ],
             [
              0.1111111111111111,
              "#46039f"
             ],
             [
              0.2222222222222222,
              "#7201a8"
             ],
             [
              0.3333333333333333,
              "#9c179e"
             ],
             [
              0.4444444444444444,
              "#bd3786"
             ],
             [
              0.5555555555555556,
              "#d8576b"
             ],
             [
              0.6666666666666666,
              "#ed7953"
             ],
             [
              0.7777777777777778,
              "#fb9f3a"
             ],
             [
              0.8888888888888888,
              "#fdca26"
             ],
             [
              1,
              "#f0f921"
             ]
            ],
            "type": "contour"
           }
          ],
          "contourcarpet": [
           {
            "colorbar": {
             "outlinewidth": 0,
             "ticks": ""
            },
            "type": "contourcarpet"
           }
          ],
          "heatmap": [
           {
            "colorbar": {
             "outlinewidth": 0,
             "ticks": ""
            },
            "colorscale": [
             [
              0,
              "#0d0887"
             ],
             [
              0.1111111111111111,
              "#46039f"
             ],
             [
              0.2222222222222222,
              "#7201a8"
             ],
             [
              0.3333333333333333,
              "#9c179e"
             ],
             [
              0.4444444444444444,
              "#bd3786"
             ],
             [
              0.5555555555555556,
              "#d8576b"
             ],
             [
              0.6666666666666666,
              "#ed7953"
             ],
             [
              0.7777777777777778,
              "#fb9f3a"
             ],
             [
              0.8888888888888888,
              "#fdca26"
             ],
             [
              1,
              "#f0f921"
             ]
            ],
            "type": "heatmap"
           }
          ],
          "heatmapgl": [
           {
            "colorbar": {
             "outlinewidth": 0,
             "ticks": ""
            },
            "colorscale": [
             [
              0,
              "#0d0887"
             ],
             [
              0.1111111111111111,
              "#46039f"
             ],
             [
              0.2222222222222222,
              "#7201a8"
             ],
             [
              0.3333333333333333,
              "#9c179e"
             ],
             [
              0.4444444444444444,
              "#bd3786"
             ],
             [
              0.5555555555555556,
              "#d8576b"
             ],
             [
              0.6666666666666666,
              "#ed7953"
             ],
             [
              0.7777777777777778,
              "#fb9f3a"
             ],
             [
              0.8888888888888888,
              "#fdca26"
             ],
             [
              1,
              "#f0f921"
             ]
            ],
            "type": "heatmapgl"
           }
          ],
          "histogram": [
           {
            "marker": {
             "pattern": {
              "fillmode": "overlay",
              "size": 10,
              "solidity": 0.2
             }
            },
            "type": "histogram"
           }
          ],
          "histogram2d": [
           {
            "colorbar": {
             "outlinewidth": 0,
             "ticks": ""
            },
            "colorscale": [
             [
              0,
              "#0d0887"
             ],
             [
              0.1111111111111111,
              "#46039f"
             ],
             [
              0.2222222222222222,
              "#7201a8"
             ],
             [
              0.3333333333333333,
              "#9c179e"
             ],
             [
              0.4444444444444444,
              "#bd3786"
             ],
             [
              0.5555555555555556,
              "#d8576b"
             ],
             [
              0.6666666666666666,
              "#ed7953"
             ],
             [
              0.7777777777777778,
              "#fb9f3a"
             ],
             [
              0.8888888888888888,
              "#fdca26"
             ],
             [
              1,
              "#f0f921"
             ]
            ],
            "type": "histogram2d"
           }
          ],
          "histogram2dcontour": [
           {
            "colorbar": {
             "outlinewidth": 0,
             "ticks": ""
            },
            "colorscale": [
             [
              0,
              "#0d0887"
             ],
             [
              0.1111111111111111,
              "#46039f"
             ],
             [
              0.2222222222222222,
              "#7201a8"
             ],
             [
              0.3333333333333333,
              "#9c179e"
             ],
             [
              0.4444444444444444,
              "#bd3786"
             ],
             [
              0.5555555555555556,
              "#d8576b"
             ],
             [
              0.6666666666666666,
              "#ed7953"
             ],
             [
              0.7777777777777778,
              "#fb9f3a"
             ],
             [
              0.8888888888888888,
              "#fdca26"
             ],
             [
              1,
              "#f0f921"
             ]
            ],
            "type": "histogram2dcontour"
           }
          ],
          "mesh3d": [
           {
            "colorbar": {
             "outlinewidth": 0,
             "ticks": ""
            },
            "type": "mesh3d"
           }
          ],
          "parcoords": [
           {
            "line": {
             "colorbar": {
              "outlinewidth": 0,
              "ticks": ""
             }
            },
            "type": "parcoords"
           }
          ],
          "pie": [
           {
            "automargin": true,
            "type": "pie"
           }
          ],
          "scatter": [
           {
            "fillpattern": {
             "fillmode": "overlay",
             "size": 10,
             "solidity": 0.2
            },
            "type": "scatter"
           }
          ],
          "scatter3d": [
           {
            "line": {
             "colorbar": {
              "outlinewidth": 0,
              "ticks": ""
             }
            },
            "marker": {
             "colorbar": {
              "outlinewidth": 0,
              "ticks": ""
             }
            },
            "type": "scatter3d"
           }
          ],
          "scattercarpet": [
           {
            "marker": {
             "colorbar": {
              "outlinewidth": 0,
              "ticks": ""
             }
            },
            "type": "scattercarpet"
           }
          ],
          "scattergeo": [
           {
            "marker": {
             "colorbar": {
              "outlinewidth": 0,
              "ticks": ""
             }
            },
            "type": "scattergeo"
           }
          ],
          "scattergl": [
           {
            "marker": {
             "colorbar": {
              "outlinewidth": 0,
              "ticks": ""
             }
            },
            "type": "scattergl"
           }
          ],
          "scattermapbox": [
           {
            "marker": {
             "colorbar": {
              "outlinewidth": 0,
              "ticks": ""
             }
            },
            "type": "scattermapbox"
           }
          ],
          "scatterpolar": [
           {
            "marker": {
             "colorbar": {
              "outlinewidth": 0,
              "ticks": ""
             }
            },
            "type": "scatterpolar"
           }
          ],
          "scatterpolargl": [
           {
            "marker": {
             "colorbar": {
              "outlinewidth": 0,
              "ticks": ""
             }
            },
            "type": "scatterpolargl"
           }
          ],
          "scatterternary": [
           {
            "marker": {
             "colorbar": {
              "outlinewidth": 0,
              "ticks": ""
             }
            },
            "type": "scatterternary"
           }
          ],
          "surface": [
           {
            "colorbar": {
             "outlinewidth": 0,
             "ticks": ""
            },
            "colorscale": [
             [
              0,
              "#0d0887"
             ],
             [
              0.1111111111111111,
              "#46039f"
             ],
             [
              0.2222222222222222,
              "#7201a8"
             ],
             [
              0.3333333333333333,
              "#9c179e"
             ],
             [
              0.4444444444444444,
              "#bd3786"
             ],
             [
              0.5555555555555556,
              "#d8576b"
             ],
             [
              0.6666666666666666,
              "#ed7953"
             ],
             [
              0.7777777777777778,
              "#fb9f3a"
             ],
             [
              0.8888888888888888,
              "#fdca26"
             ],
             [
              1,
              "#f0f921"
             ]
            ],
            "type": "surface"
           }
          ],
          "table": [
           {
            "cells": {
             "fill": {
              "color": "#EBF0F8"
             },
             "line": {
              "color": "white"
             }
            },
            "header": {
             "fill": {
              "color": "#C8D4E3"
             },
             "line": {
              "color": "white"
             }
            },
            "type": "table"
           }
          ]
         },
         "layout": {
          "annotationdefaults": {
           "arrowcolor": "#2a3f5f",
           "arrowhead": 0,
           "arrowwidth": 1
          },
          "autotypenumbers": "strict",
          "coloraxis": {
           "colorbar": {
            "outlinewidth": 0,
            "ticks": ""
           }
          },
          "colorscale": {
           "diverging": [
            [
             0,
             "#8e0152"
            ],
            [
             0.1,
             "#c51b7d"
            ],
            [
             0.2,
             "#de77ae"
            ],
            [
             0.3,
             "#f1b6da"
            ],
            [
             0.4,
             "#fde0ef"
            ],
            [
             0.5,
             "#f7f7f7"
            ],
            [
             0.6,
             "#e6f5d0"
            ],
            [
             0.7,
             "#b8e186"
            ],
            [
             0.8,
             "#7fbc41"
            ],
            [
             0.9,
             "#4d9221"
            ],
            [
             1,
             "#276419"
            ]
           ],
           "sequential": [
            [
             0,
             "#0d0887"
            ],
            [
             0.1111111111111111,
             "#46039f"
            ],
            [
             0.2222222222222222,
             "#7201a8"
            ],
            [
             0.3333333333333333,
             "#9c179e"
            ],
            [
             0.4444444444444444,
             "#bd3786"
            ],
            [
             0.5555555555555556,
             "#d8576b"
            ],
            [
             0.6666666666666666,
             "#ed7953"
            ],
            [
             0.7777777777777778,
             "#fb9f3a"
            ],
            [
             0.8888888888888888,
             "#fdca26"
            ],
            [
             1,
             "#f0f921"
            ]
           ],
           "sequentialminus": [
            [
             0,
             "#0d0887"
            ],
            [
             0.1111111111111111,
             "#46039f"
            ],
            [
             0.2222222222222222,
             "#7201a8"
            ],
            [
             0.3333333333333333,
             "#9c179e"
            ],
            [
             0.4444444444444444,
             "#bd3786"
            ],
            [
             0.5555555555555556,
             "#d8576b"
            ],
            [
             0.6666666666666666,
             "#ed7953"
            ],
            [
             0.7777777777777778,
             "#fb9f3a"
            ],
            [
             0.8888888888888888,
             "#fdca26"
            ],
            [
             1,
             "#f0f921"
            ]
           ]
          },
          "colorway": [
           "#636efa",
           "#EF553B",
           "#00cc96",
           "#ab63fa",
           "#FFA15A",
           "#19d3f3",
           "#FF6692",
           "#B6E880",
           "#FF97FF",
           "#FECB52"
          ],
          "font": {
           "color": "#2a3f5f"
          },
          "geo": {
           "bgcolor": "white",
           "lakecolor": "white",
           "landcolor": "#E5ECF6",
           "showlakes": true,
           "showland": true,
           "subunitcolor": "white"
          },
          "hoverlabel": {
           "align": "left"
          },
          "hovermode": "closest",
          "mapbox": {
           "style": "light"
          },
          "paper_bgcolor": "white",
          "plot_bgcolor": "#E5ECF6",
          "polar": {
           "angularaxis": {
            "gridcolor": "white",
            "linecolor": "white",
            "ticks": ""
           },
           "bgcolor": "#E5ECF6",
           "radialaxis": {
            "gridcolor": "white",
            "linecolor": "white",
            "ticks": ""
           }
          },
          "scene": {
           "xaxis": {
            "backgroundcolor": "#E5ECF6",
            "gridcolor": "white",
            "gridwidth": 2,
            "linecolor": "white",
            "showbackground": true,
            "ticks": "",
            "zerolinecolor": "white"
           },
           "yaxis": {
            "backgroundcolor": "#E5ECF6",
            "gridcolor": "white",
            "gridwidth": 2,
            "linecolor": "white",
            "showbackground": true,
            "ticks": "",
            "zerolinecolor": "white"
           },
           "zaxis": {
            "backgroundcolor": "#E5ECF6",
            "gridcolor": "white",
            "gridwidth": 2,
            "linecolor": "white",
            "showbackground": true,
            "ticks": "",
            "zerolinecolor": "white"
           }
          },
          "shapedefaults": {
           "line": {
            "color": "#2a3f5f"
           }
          },
          "ternary": {
           "aaxis": {
            "gridcolor": "white",
            "linecolor": "white",
            "ticks": ""
           },
           "baxis": {
            "gridcolor": "white",
            "linecolor": "white",
            "ticks": ""
           },
           "bgcolor": "#E5ECF6",
           "caxis": {
            "gridcolor": "white",
            "linecolor": "white",
            "ticks": ""
           }
          },
          "title": {
           "x": 0.05
          },
          "xaxis": {
           "automargin": true,
           "gridcolor": "white",
           "linecolor": "white",
           "ticks": "",
           "title": {
            "standoff": 15
           },
           "zerolinecolor": "white",
           "zerolinewidth": 2
          },
          "yaxis": {
           "automargin": true,
           "gridcolor": "white",
           "linecolor": "white",
           "ticks": "",
           "title": {
            "standoff": 15
           },
           "zerolinecolor": "white",
           "zerolinewidth": 2
          }
         }
        },
        "title": {
         "text": "물동량 - 체류시간(정규화)"
        },
        "width": 600,
        "xaxis": {
         "title": {
          "text": "체류시간"
         }
        },
        "yaxis": {
         "title": {
          "text": "물동량"
         }
        }
       }
      }
     },
     "metadata": {},
     "output_type": "display_data"
    }
   ],
   "source": [
    "fig=go.Figure()\n",
    "fig.add_trace(go.Scatter(x=scaled_df['체류시간_totalTime(시간)'],y=scaled_df['컨테이너'],\n",
    "                         hovertemplate='<b>년도:</b> %{text}',\n",
    "                         mode='markers',name='실측값',\n",
    "                         text=scaled_df['년/월']))\n",
    "\n",
    "# 추세선을 추가합니다.\n",
    "fig.add_trace(go.Scatter(\n",
    "    x=scaled_df['체류시간_totalTime(시간)'],\n",
    "    y=np.poly1d(np.polyfit(scaled_df['체류시간_totalTime(시간)'], scaled_df['컨테이너'],1))\\\n",
    "        (scaled_df['체류시간_totalTime(시간)']),\n",
    "    mode='lines',line=dict(color='red', width=2),\n",
    "    name='추세선'\n",
    "))\n",
    "\n",
    "fig.update_layout(title='물동량 - 체류시간(정규화)',\n",
    "                  xaxis=dict(title='체류시간'),\n",
    "                  yaxis=dict(title='물동량'),\n",
    "                  width=600,height=600,\n",
    "                  hovermode='x',\n",
    "                  annotations=[\n",
    "                      dict(x=-0.1,\n",
    "                           y=1.1,\n",
    "                           xref='paper',\n",
    "                           yref='paper',\n",
    "                           text=f'상관계수: {round(corr2[0],3)}',\n",
    "                           showarrow=False)])"
   ]
  },
  {
   "cell_type": "markdown",
   "metadata": {},
   "source": [
    "* 상관계수 값과 산점도가 동일한 것으로 보아 상관계수 계산 모듈이 정규화를 진행하는 것으로 보임"
   ]
  },
  {
   "cell_type": "markdown",
   "metadata": {},
   "source": [
    "##### +α_2 정규화 후 시간에 흐름에 따른 물동량과, 체류시간의 증감 추세 파악"
   ]
  },
  {
   "cell_type": "code",
   "execution_count": 29,
   "metadata": {},
   "outputs": [
    {
     "data": {
      "application/vnd.plotly.v1+json": {
       "config": {
        "plotlyServerURL": "https://plot.ly"
       },
       "data": [
        {
         "name": "물동량",
         "type": "scatter",
         "x": [
          "2013-1",
          "2013-2",
          "2013-3",
          "2013-4",
          "2013-5",
          "2013-6",
          "2013-7",
          "2013-8",
          "2013-9",
          "2013-10",
          "2013-11",
          "2013-12",
          "2014-1",
          "2014-2",
          "2014-3",
          "2014-4",
          "2014-5",
          "2014-6",
          "2014-7",
          "2014-8",
          "2014-9",
          "2014-10",
          "2014-11",
          "2014-12",
          "2015-1",
          "2015-2",
          "2015-3",
          "2015-4",
          "2015-5",
          "2015-6",
          "2015-7",
          "2015-8",
          "2015-9",
          "2015-10",
          "2015-11",
          "2015-12",
          "2016-1",
          "2016-2",
          "2016-3",
          "2016-4",
          "2016-5",
          "2016-6",
          "2016-7",
          "2016-8",
          "2016-9",
          "2016-10",
          "2016-11",
          "2016-12",
          "2017-1",
          "2017-2",
          "2017-3",
          "2017-4",
          "2017-5",
          "2017-6",
          "2017-7",
          "2017-8",
          "2017-9",
          "2017-10",
          "2017-11",
          "2017-12",
          "2018-1",
          "2018-2",
          "2018-3",
          "2018-4",
          "2018-5",
          "2018-6",
          "2018-7",
          "2018-8",
          "2018-9",
          "2018-10",
          "2018-11",
          "2018-12",
          "2019-1",
          "2019-2",
          "2019-3",
          "2019-4",
          "2019-5",
          "2019-6",
          "2019-7",
          "2019-8",
          "2019-9",
          "2019-10",
          "2019-11",
          "2019-12",
          "2020-1",
          "2020-2",
          "2020-3",
          "2020-4",
          "2020-5",
          "2020-6",
          "2020-7",
          "2020-8",
          "2020-9",
          "2020-10",
          "2020-11",
          "2020-12",
          "2021-1",
          "2021-2",
          "2021-3",
          "2021-4",
          "2021-5",
          "2021-6",
          "2021-7",
          "2021-8",
          "2021-9",
          "2021-10",
          "2021-11",
          "2021-12",
          "2022-1",
          "2022-2",
          "2022-3",
          "2022-4",
          "2022-5",
          "2022-6",
          "2022-7",
          "2022-8",
          "2022-9",
          "2022-10",
          "2022-11",
          "2022-12",
          "2023-1",
          "2023-2",
          "2023-3",
          "2023-4",
          "2023-5",
          "2023-6",
          "2023-7",
          "2023-8",
          "2023-9",
          "2023-10",
          "2023-11",
          "2023-12"
         ],
         "y": [
          0.09757178495436558,
          0,
          0.20518518043823053,
          0.1972886106861702,
          0.1731045468379575,
          0.1818785397979119,
          0.19098251695879687,
          0.1336295890041994,
          0.11822659603793229,
          0.1646979841121694,
          0.1597553468440025,
          0.21050921248935683,
          0.22655089226771463,
          0.02637491982340401,
          0.30236241906539685,
          0.290198962300118,
          0.23372685304301877,
          0.27101549816232273,
          0.2697762879283363,
          0.2476924539595522,
          0.2143965220239108,
          0.33155693432625744,
          0.21675877848839686,
          0.24669508866818957,
          0.3148237224398631,
          0.25223289309296204,
          0.3154350062161373,
          0.30547173106651093,
          0.29303720901849695,
          0.2880698946709561,
          0.3042095654098509,
          0.28743316863455215,
          0.28753919399302497,
          0.27563575521331996,
          0.2219309699832981,
          0.28393136672952,
          0.23181920959506064,
          0.2432751611040258,
          0.32917597875705185,
          0.257342291942092,
          0.31413262074600157,
          0.28085581832925466,
          0.3777983855833824,
          0.3187386263054224,
          0.2931342913268866,
          0.3713391600572584,
          0.29489659825504355,
          0.2862414474312214,
          0.4817339875883855,
          0.19633902136824655,
          0.4684548494573817,
          0.5124035800512021,
          0.4167294911949695,
          0.8250361117492933,
          0.5222008588006213,
          0.39245843585958395,
          0.35925810369461786,
          0.3868246968975555,
          0.41994415902139504,
          0.49576376804081024,
          0.39074404837625787,
          0.3881252650633962,
          0.4101744746029812,
          0.6447972108396272,
          1,
          0.7903176609648586,
          0.9729688420309199,
          0.7545112187932985,
          0.8055685742559144,
          0.7725195565854039,
          0.8004485107000008,
          0.7966298283144808,
          0.611391236346545,
          0.5510553468631321,
          0.7242095826264179,
          0.6438261008129471,
          0.7487362083342342,
          0.8873292379583984,
          0.8832114655449628,
          0.9515328292194984,
          0.6842394093722783,
          0.7563036068899172,
          0.6517393132464457,
          0.8019361655606299,
          0.5315526588787844,
          0.3889804023817782,
          0.6097735007574334,
          0.43116677822364435,
          0.3825171596566863,
          0.4380675130458538,
          0.4815766472954781,
          0.47462354541529517,
          0.4923629221717436,
          0.6408397437945277,
          0.6824189487066818,
          0.6140357488623198,
          0.5897055833135503,
          0.4432832241962399,
          0.6847189385871664,
          0.6697478901575373,
          0.714107140226834,
          0.6562209291092551,
          0.7019337361117302,
          0.6194834054293019,
          0.5910776480562592,
          0.7192599630838545,
          0.5903956807076698,
          0.6089397885002132,
          0.7069788597773745,
          0.47755500071448753,
          0.5636396052202928,
          0.5999472407868889,
          0.6591692662088717,
          0.5639524685018125,
          0.750715061416277,
          0.6157841868892782,
          0.3172704835540656,
          0.5353145265931876,
          0.48295703337890616,
          0.42187824902922477,
          0.5737926930211499,
          0.4226194222387927,
          0.6948646615232492,
          0.6700699356081266,
          0.645420163622427,
          0.5680432204698096,
          0.6073331002082631,
          0.598511235627275,
          0.6422041567296788,
          0.5780860265942398,
          0.6458742027533881,
          0.5891121378136452
         ]
        },
        {
         "name": "체류시간",
         "type": "scatter",
         "x": [
          "2013-1",
          "2013-2",
          "2013-3",
          "2013-4",
          "2013-5",
          "2013-6",
          "2013-7",
          "2013-8",
          "2013-9",
          "2013-10",
          "2013-11",
          "2013-12",
          "2014-1",
          "2014-2",
          "2014-3",
          "2014-4",
          "2014-5",
          "2014-6",
          "2014-7",
          "2014-8",
          "2014-9",
          "2014-10",
          "2014-11",
          "2014-12",
          "2015-1",
          "2015-2",
          "2015-3",
          "2015-4",
          "2015-5",
          "2015-6",
          "2015-7",
          "2015-8",
          "2015-9",
          "2015-10",
          "2015-11",
          "2015-12",
          "2016-1",
          "2016-2",
          "2016-3",
          "2016-4",
          "2016-5",
          "2016-6",
          "2016-7",
          "2016-8",
          "2016-9",
          "2016-10",
          "2016-11",
          "2016-12",
          "2017-1",
          "2017-2",
          "2017-3",
          "2017-4",
          "2017-5",
          "2017-6",
          "2017-7",
          "2017-8",
          "2017-9",
          "2017-10",
          "2017-11",
          "2017-12",
          "2018-1",
          "2018-2",
          "2018-3",
          "2018-4",
          "2018-5",
          "2018-6",
          "2018-7",
          "2018-8",
          "2018-9",
          "2018-10",
          "2018-11",
          "2018-12",
          "2019-1",
          "2019-2",
          "2019-3",
          "2019-4",
          "2019-5",
          "2019-6",
          "2019-7",
          "2019-8",
          "2019-9",
          "2019-10",
          "2019-11",
          "2019-12",
          "2020-1",
          "2020-2",
          "2020-3",
          "2020-4",
          "2020-5",
          "2020-6",
          "2020-7",
          "2020-8",
          "2020-9",
          "2020-10",
          "2020-11",
          "2020-12",
          "2021-1",
          "2021-2",
          "2021-3",
          "2021-4",
          "2021-5",
          "2021-6",
          "2021-7",
          "2021-8",
          "2021-9",
          "2021-10",
          "2021-11",
          "2021-12",
          "2022-1",
          "2022-2",
          "2022-3",
          "2022-4",
          "2022-5",
          "2022-6",
          "2022-7",
          "2022-8",
          "2022-9",
          "2022-10",
          "2022-11",
          "2022-12",
          "2023-1",
          "2023-2",
          "2023-3",
          "2023-4",
          "2023-5",
          "2023-6",
          "2023-7",
          "2023-8",
          "2023-9",
          "2023-10",
          "2023-11",
          "2023-12"
         ],
         "y": [
          0.01056607905398007,
          0.00859520420453301,
          0.015329026606810466,
          0.016861929267491506,
          0.01560275922478923,
          0.016478703602321253,
          0.017847366692215046,
          0.003777510128106863,
          0.007828752874192484,
          0.0015876491842767987,
          0.011661009525895105,
          0.016752436220300003,
          0.01346764480455491,
          0.0065695828314902005,
          0.01434358918208694,
          0.015000547465235957,
          0.013303405233767655,
          0.01713566188547027,
          0.010675572101171572,
          0.01346764480455491,
          0,
          0.009416402058469282,
          0.01259170042702288,
          0.01056607905398007,
          0.011879995620278111,
          0.029125150552939884,
          0.03629694514398336,
          0.03602321252600459,
          0.03887003175298368,
          0.034599802912515056,
          0.03722763604511114,
          0.03262892806306799,
          0.033833351582174535,
          0.03432607029453629,
          0.025895105660790542,
          0.0313697580203657,
          0.026716303514726807,
          0.030001094930471907,
          0.029125150552939884,
          0.027373261797875838,
          0.028906164458556878,
          0.028358699222599364,
          0.03930800394174969,
          0.02950837621811015,
          0.038651045658600676,
          0.03936275046534545,
          0.035421000766451334,
          0.04286652797547356,
          0.03892477827657944,
          0.03673491733274937,
          0.04237380926311179,
          0.04259279535749479,
          0.02775648746304609,
          0.012317967809044122,
          0.01385087046972517,
          0.01888755064053433,
          0.01795685973940655,
          0.022884046863024192,
          0.021460637249534655,
          0.0645461513193912,
          0.06054965509690135,
          0.05660790539800723,
          0.06668126573962554,
          0.06925435234862587,
          0.0837074345779043,
          0.11140917551735466,
          0.12339866418482426,
          0.13735902770174094,
          0.1440928501040184,
          0.13807073250848573,
          0.14332639877367787,
          0.14201248220737983,
          0.1538377313040622,
          0.15821745319172234,
          0.19341946786379066,
          0.26267382021241653,
          0.27192598270009855,
          0.2546808277674368,
          0.27318515274280086,
          0.2785503120551845,
          0.2618526223584802,
          0.2580203657067776,
          0.2973831161721231,
          0.31621592028906165,
          0.34238475856783096,
          0.28451768312712145,
          0.36346217015219534,
          0.3569473338443009,
          0.3537720354757473,
          0.36439286105332314,
          0.417989707653564,
          0.450399649622249,
          0.3763823497207927,
          0.40808058688273297,
          0.4099967152085843,
          0.4164020584692872,
          0.4507281287638235,
          0.3768203219095588,
          0.41990583597941533,
          0.46945143983357057,
          0.5125369539034271,
          0.5433045001642395,
          0.5064600897842987,
          0.5390890178473666,
          0.5584692872002628,
          0.6019927734588854,
          0.6468301762838059,
          0.7248439724077521,
          0.8178035694733384,
          0.7046425052009196,
          0.7640424833023103,
          0.8067447717069965,
          0.8490638344465126,
          0.796288185700208,
          0.9299244497974378,
          0.9999999999999999,
          0.7935508595204204,
          0.8637906492937698,
          0.9001970874849446,
          0.8513631884375342,
          0.9384101609547794,
          0.7882404467316325,
          0.9241213182962882,
          0.8854702726376874,
          0.8652140589072593,
          0.8976240008759443,
          0.884265849118581,
          0.9017847366692214,
          0.8818570020803679,
          0.9524800175188876,
          0.8585349830285777,
          0.6446950618635716
         ]
        }
       ],
       "layout": {
        "template": {
         "data": {
          "bar": [
           {
            "error_x": {
             "color": "#2a3f5f"
            },
            "error_y": {
             "color": "#2a3f5f"
            },
            "marker": {
             "line": {
              "color": "#E5ECF6",
              "width": 0.5
             },
             "pattern": {
              "fillmode": "overlay",
              "size": 10,
              "solidity": 0.2
             }
            },
            "type": "bar"
           }
          ],
          "barpolar": [
           {
            "marker": {
             "line": {
              "color": "#E5ECF6",
              "width": 0.5
             },
             "pattern": {
              "fillmode": "overlay",
              "size": 10,
              "solidity": 0.2
             }
            },
            "type": "barpolar"
           }
          ],
          "carpet": [
           {
            "aaxis": {
             "endlinecolor": "#2a3f5f",
             "gridcolor": "white",
             "linecolor": "white",
             "minorgridcolor": "white",
             "startlinecolor": "#2a3f5f"
            },
            "baxis": {
             "endlinecolor": "#2a3f5f",
             "gridcolor": "white",
             "linecolor": "white",
             "minorgridcolor": "white",
             "startlinecolor": "#2a3f5f"
            },
            "type": "carpet"
           }
          ],
          "choropleth": [
           {
            "colorbar": {
             "outlinewidth": 0,
             "ticks": ""
            },
            "type": "choropleth"
           }
          ],
          "contour": [
           {
            "colorbar": {
             "outlinewidth": 0,
             "ticks": ""
            },
            "colorscale": [
             [
              0,
              "#0d0887"
             ],
             [
              0.1111111111111111,
              "#46039f"
             ],
             [
              0.2222222222222222,
              "#7201a8"
             ],
             [
              0.3333333333333333,
              "#9c179e"
             ],
             [
              0.4444444444444444,
              "#bd3786"
             ],
             [
              0.5555555555555556,
              "#d8576b"
             ],
             [
              0.6666666666666666,
              "#ed7953"
             ],
             [
              0.7777777777777778,
              "#fb9f3a"
             ],
             [
              0.8888888888888888,
              "#fdca26"
             ],
             [
              1,
              "#f0f921"
             ]
            ],
            "type": "contour"
           }
          ],
          "contourcarpet": [
           {
            "colorbar": {
             "outlinewidth": 0,
             "ticks": ""
            },
            "type": "contourcarpet"
           }
          ],
          "heatmap": [
           {
            "colorbar": {
             "outlinewidth": 0,
             "ticks": ""
            },
            "colorscale": [
             [
              0,
              "#0d0887"
             ],
             [
              0.1111111111111111,
              "#46039f"
             ],
             [
              0.2222222222222222,
              "#7201a8"
             ],
             [
              0.3333333333333333,
              "#9c179e"
             ],
             [
              0.4444444444444444,
              "#bd3786"
             ],
             [
              0.5555555555555556,
              "#d8576b"
             ],
             [
              0.6666666666666666,
              "#ed7953"
             ],
             [
              0.7777777777777778,
              "#fb9f3a"
             ],
             [
              0.8888888888888888,
              "#fdca26"
             ],
             [
              1,
              "#f0f921"
             ]
            ],
            "type": "heatmap"
           }
          ],
          "heatmapgl": [
           {
            "colorbar": {
             "outlinewidth": 0,
             "ticks": ""
            },
            "colorscale": [
             [
              0,
              "#0d0887"
             ],
             [
              0.1111111111111111,
              "#46039f"
             ],
             [
              0.2222222222222222,
              "#7201a8"
             ],
             [
              0.3333333333333333,
              "#9c179e"
             ],
             [
              0.4444444444444444,
              "#bd3786"
             ],
             [
              0.5555555555555556,
              "#d8576b"
             ],
             [
              0.6666666666666666,
              "#ed7953"
             ],
             [
              0.7777777777777778,
              "#fb9f3a"
             ],
             [
              0.8888888888888888,
              "#fdca26"
             ],
             [
              1,
              "#f0f921"
             ]
            ],
            "type": "heatmapgl"
           }
          ],
          "histogram": [
           {
            "marker": {
             "pattern": {
              "fillmode": "overlay",
              "size": 10,
              "solidity": 0.2
             }
            },
            "type": "histogram"
           }
          ],
          "histogram2d": [
           {
            "colorbar": {
             "outlinewidth": 0,
             "ticks": ""
            },
            "colorscale": [
             [
              0,
              "#0d0887"
             ],
             [
              0.1111111111111111,
              "#46039f"
             ],
             [
              0.2222222222222222,
              "#7201a8"
             ],
             [
              0.3333333333333333,
              "#9c179e"
             ],
             [
              0.4444444444444444,
              "#bd3786"
             ],
             [
              0.5555555555555556,
              "#d8576b"
             ],
             [
              0.6666666666666666,
              "#ed7953"
             ],
             [
              0.7777777777777778,
              "#fb9f3a"
             ],
             [
              0.8888888888888888,
              "#fdca26"
             ],
             [
              1,
              "#f0f921"
             ]
            ],
            "type": "histogram2d"
           }
          ],
          "histogram2dcontour": [
           {
            "colorbar": {
             "outlinewidth": 0,
             "ticks": ""
            },
            "colorscale": [
             [
              0,
              "#0d0887"
             ],
             [
              0.1111111111111111,
              "#46039f"
             ],
             [
              0.2222222222222222,
              "#7201a8"
             ],
             [
              0.3333333333333333,
              "#9c179e"
             ],
             [
              0.4444444444444444,
              "#bd3786"
             ],
             [
              0.5555555555555556,
              "#d8576b"
             ],
             [
              0.6666666666666666,
              "#ed7953"
             ],
             [
              0.7777777777777778,
              "#fb9f3a"
             ],
             [
              0.8888888888888888,
              "#fdca26"
             ],
             [
              1,
              "#f0f921"
             ]
            ],
            "type": "histogram2dcontour"
           }
          ],
          "mesh3d": [
           {
            "colorbar": {
             "outlinewidth": 0,
             "ticks": ""
            },
            "type": "mesh3d"
           }
          ],
          "parcoords": [
           {
            "line": {
             "colorbar": {
              "outlinewidth": 0,
              "ticks": ""
             }
            },
            "type": "parcoords"
           }
          ],
          "pie": [
           {
            "automargin": true,
            "type": "pie"
           }
          ],
          "scatter": [
           {
            "fillpattern": {
             "fillmode": "overlay",
             "size": 10,
             "solidity": 0.2
            },
            "type": "scatter"
           }
          ],
          "scatter3d": [
           {
            "line": {
             "colorbar": {
              "outlinewidth": 0,
              "ticks": ""
             }
            },
            "marker": {
             "colorbar": {
              "outlinewidth": 0,
              "ticks": ""
             }
            },
            "type": "scatter3d"
           }
          ],
          "scattercarpet": [
           {
            "marker": {
             "colorbar": {
              "outlinewidth": 0,
              "ticks": ""
             }
            },
            "type": "scattercarpet"
           }
          ],
          "scattergeo": [
           {
            "marker": {
             "colorbar": {
              "outlinewidth": 0,
              "ticks": ""
             }
            },
            "type": "scattergeo"
           }
          ],
          "scattergl": [
           {
            "marker": {
             "colorbar": {
              "outlinewidth": 0,
              "ticks": ""
             }
            },
            "type": "scattergl"
           }
          ],
          "scattermapbox": [
           {
            "marker": {
             "colorbar": {
              "outlinewidth": 0,
              "ticks": ""
             }
            },
            "type": "scattermapbox"
           }
          ],
          "scatterpolar": [
           {
            "marker": {
             "colorbar": {
              "outlinewidth": 0,
              "ticks": ""
             }
            },
            "type": "scatterpolar"
           }
          ],
          "scatterpolargl": [
           {
            "marker": {
             "colorbar": {
              "outlinewidth": 0,
              "ticks": ""
             }
            },
            "type": "scatterpolargl"
           }
          ],
          "scatterternary": [
           {
            "marker": {
             "colorbar": {
              "outlinewidth": 0,
              "ticks": ""
             }
            },
            "type": "scatterternary"
           }
          ],
          "surface": [
           {
            "colorbar": {
             "outlinewidth": 0,
             "ticks": ""
            },
            "colorscale": [
             [
              0,
              "#0d0887"
             ],
             [
              0.1111111111111111,
              "#46039f"
             ],
             [
              0.2222222222222222,
              "#7201a8"
             ],
             [
              0.3333333333333333,
              "#9c179e"
             ],
             [
              0.4444444444444444,
              "#bd3786"
             ],
             [
              0.5555555555555556,
              "#d8576b"
             ],
             [
              0.6666666666666666,
              "#ed7953"
             ],
             [
              0.7777777777777778,
              "#fb9f3a"
             ],
             [
              0.8888888888888888,
              "#fdca26"
             ],
             [
              1,
              "#f0f921"
             ]
            ],
            "type": "surface"
           }
          ],
          "table": [
           {
            "cells": {
             "fill": {
              "color": "#EBF0F8"
             },
             "line": {
              "color": "white"
             }
            },
            "header": {
             "fill": {
              "color": "#C8D4E3"
             },
             "line": {
              "color": "white"
             }
            },
            "type": "table"
           }
          ]
         },
         "layout": {
          "annotationdefaults": {
           "arrowcolor": "#2a3f5f",
           "arrowhead": 0,
           "arrowwidth": 1
          },
          "autotypenumbers": "strict",
          "coloraxis": {
           "colorbar": {
            "outlinewidth": 0,
            "ticks": ""
           }
          },
          "colorscale": {
           "diverging": [
            [
             0,
             "#8e0152"
            ],
            [
             0.1,
             "#c51b7d"
            ],
            [
             0.2,
             "#de77ae"
            ],
            [
             0.3,
             "#f1b6da"
            ],
            [
             0.4,
             "#fde0ef"
            ],
            [
             0.5,
             "#f7f7f7"
            ],
            [
             0.6,
             "#e6f5d0"
            ],
            [
             0.7,
             "#b8e186"
            ],
            [
             0.8,
             "#7fbc41"
            ],
            [
             0.9,
             "#4d9221"
            ],
            [
             1,
             "#276419"
            ]
           ],
           "sequential": [
            [
             0,
             "#0d0887"
            ],
            [
             0.1111111111111111,
             "#46039f"
            ],
            [
             0.2222222222222222,
             "#7201a8"
            ],
            [
             0.3333333333333333,
             "#9c179e"
            ],
            [
             0.4444444444444444,
             "#bd3786"
            ],
            [
             0.5555555555555556,
             "#d8576b"
            ],
            [
             0.6666666666666666,
             "#ed7953"
            ],
            [
             0.7777777777777778,
             "#fb9f3a"
            ],
            [
             0.8888888888888888,
             "#fdca26"
            ],
            [
             1,
             "#f0f921"
            ]
           ],
           "sequentialminus": [
            [
             0,
             "#0d0887"
            ],
            [
             0.1111111111111111,
             "#46039f"
            ],
            [
             0.2222222222222222,
             "#7201a8"
            ],
            [
             0.3333333333333333,
             "#9c179e"
            ],
            [
             0.4444444444444444,
             "#bd3786"
            ],
            [
             0.5555555555555556,
             "#d8576b"
            ],
            [
             0.6666666666666666,
             "#ed7953"
            ],
            [
             0.7777777777777778,
             "#fb9f3a"
            ],
            [
             0.8888888888888888,
             "#fdca26"
            ],
            [
             1,
             "#f0f921"
            ]
           ]
          },
          "colorway": [
           "#636efa",
           "#EF553B",
           "#00cc96",
           "#ab63fa",
           "#FFA15A",
           "#19d3f3",
           "#FF6692",
           "#B6E880",
           "#FF97FF",
           "#FECB52"
          ],
          "font": {
           "color": "#2a3f5f"
          },
          "geo": {
           "bgcolor": "white",
           "lakecolor": "white",
           "landcolor": "#E5ECF6",
           "showlakes": true,
           "showland": true,
           "subunitcolor": "white"
          },
          "hoverlabel": {
           "align": "left"
          },
          "hovermode": "closest",
          "mapbox": {
           "style": "light"
          },
          "paper_bgcolor": "white",
          "plot_bgcolor": "#E5ECF6",
          "polar": {
           "angularaxis": {
            "gridcolor": "white",
            "linecolor": "white",
            "ticks": ""
           },
           "bgcolor": "#E5ECF6",
           "radialaxis": {
            "gridcolor": "white",
            "linecolor": "white",
            "ticks": ""
           }
          },
          "scene": {
           "xaxis": {
            "backgroundcolor": "#E5ECF6",
            "gridcolor": "white",
            "gridwidth": 2,
            "linecolor": "white",
            "showbackground": true,
            "ticks": "",
            "zerolinecolor": "white"
           },
           "yaxis": {
            "backgroundcolor": "#E5ECF6",
            "gridcolor": "white",
            "gridwidth": 2,
            "linecolor": "white",
            "showbackground": true,
            "ticks": "",
            "zerolinecolor": "white"
           },
           "zaxis": {
            "backgroundcolor": "#E5ECF6",
            "gridcolor": "white",
            "gridwidth": 2,
            "linecolor": "white",
            "showbackground": true,
            "ticks": "",
            "zerolinecolor": "white"
           }
          },
          "shapedefaults": {
           "line": {
            "color": "#2a3f5f"
           }
          },
          "ternary": {
           "aaxis": {
            "gridcolor": "white",
            "linecolor": "white",
            "ticks": ""
           },
           "baxis": {
            "gridcolor": "white",
            "linecolor": "white",
            "ticks": ""
           },
           "bgcolor": "#E5ECF6",
           "caxis": {
            "gridcolor": "white",
            "linecolor": "white",
            "ticks": ""
           }
          },
          "title": {
           "x": 0.05
          },
          "xaxis": {
           "automargin": true,
           "gridcolor": "white",
           "linecolor": "white",
           "ticks": "",
           "title": {
            "standoff": 15
           },
           "zerolinecolor": "white",
           "zerolinewidth": 2
          },
          "yaxis": {
           "automargin": true,
           "gridcolor": "white",
           "linecolor": "white",
           "ticks": "",
           "title": {
            "standoff": 15
           },
           "zerolinecolor": "white",
           "zerolinewidth": 2
          }
         }
        },
        "title": {
         "text": "물동량 / 체류시간"
        },
        "xaxis": {
         "title": {
          "text": "년/월"
         }
        }
       }
      }
     },
     "metadata": {},
     "output_type": "display_data"
    }
   ],
   "source": [
    "fig=go.Figure()\n",
    "fig.add_trace(go.Scatter(x=scaled_df['년/월'],y=scaled_df['컨테이너'],name='물동량'))\n",
    "fig.add_trace(go.Scatter(x=scaled_df['년/월'],y=scaled_df['체류시간_totalTime(시간)'],name='체류시간'))\n",
    "fig.update_layout(title='물동량 / 체류시간',\n",
    "                  xaxis=dict(title='년/월'))"
   ]
  },
  {
   "cell_type": "markdown",
   "metadata": {},
   "source": [
    "# 결론"
   ]
  },
  {
   "cell_type": "markdown",
   "metadata": {},
   "source": [
    "#### 1. 체류 시간과 물동량 간의 상관 계수는 0.493으로 양의 상관관계를 가진다\n",
    "#### 2. 시간이 지남에 따라 체류 시간이 꾸준히 증가 추세를 보이고 있다\n",
    "#### 3. 물동량은 코로나 발발 시점 이후 크게 감소했으나, 상관계수를 고려했을 때 물동량도 증가할 것으로 예상할 수 있다\n",
    "#### 4. 외국인 선원들의 체류시간의 증가 추세를 예상할 수 있으므로 부산항만공사에게 외국인 선윈 대상 마케팅 전략 인사이트를 제공하고자 함"
   ]
  }
 ],
 "metadata": {
  "kernelspec": {
   "display_name": "Python 3",
   "language": "python",
   "name": "python3"
  },
  "language_info": {
   "codemirror_mode": {
    "name": "ipython",
    "version": 3
   },
   "file_extension": ".py",
   "mimetype": "text/x-python",
   "name": "python",
   "nbconvert_exporter": "python",
   "pygments_lexer": "ipython3",
   "version": "3.11.8"
  }
 },
 "nbformat": 4,
 "nbformat_minor": 2
}
