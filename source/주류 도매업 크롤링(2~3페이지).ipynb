{
 "cells": [
  {
   "cell_type": "markdown",
   "metadata": {},
   "source": [
    "# 주류 도매업 크롤링(2 ~ 3페이지)"
   ]
  },
  {
   "cell_type": "code",
   "execution_count": 1,
   "metadata": {},
   "outputs": [],
   "source": [
    "import numpy as np\n",
    "import pandas as pd\n",
    "from selenium import webdriver #Selenium의 웹 드라이버를 사용하기 위한 모듈을 임포트\n",
    "from selenium.webdriver.common.by import By #Selenium에서 사용하는 By 클래스를 임포트합. 웹 요소를 검색하는데 사용.\n",
    "from selenium.webdriver.common.keys import Keys #키보드 입력 제어를 위해 Keys 클래스 임포트\n",
    "from selenium.webdriver.chrome.service import Service #Chrome 드라이버 서비스를 사용하기 위한 모듈 임포트\n",
    "from selenium.webdriver.chrome.options import Options #Chrome 드라이버 옵션을 설정하기 위한 클래스 임포트\n",
    "from webdriver_manager.chrome import ChromeDriverManager #Chrome 드라이버를 자동으로 설치 및 관리하는데 사용되는 드라이버 매니저 임포트\n",
    "from bs4 import BeautifulSoup #Beautiful soup 크롤링을위해\n",
    "import time"
   ]
  },
  {
   "cell_type": "code",
   "execution_count": 7,
   "metadata": {},
   "outputs": [
    {
     "ename": "NoSuchElementException",
     "evalue": "Message: no such element: Unable to locate element: {\"method\":\"xpath\",\"selector\":\"//*[@id=\"corpTabel\"]/tbody/tr[23]/td[1]/span/a\"}\n  (Session info: chrome=122.0.6261.71); For documentation on this error, please visit: https://www.selenium.dev/documentation/webdriver/troubleshooting/errors#no-such-element-exception\nStacktrace:\n\tGetHandleVerifier [0x00007FF6D539AD22+56930]\n\t(No symbol) [0x00007FF6D530F622]\n\t(No symbol) [0x00007FF6D51C42E5]\n\t(No symbol) [0x00007FF6D52098ED]\n\t(No symbol) [0x00007FF6D5209A2C]\n\t(No symbol) [0x00007FF6D524A967]\n\t(No symbol) [0x00007FF6D522BCDF]\n\t(No symbol) [0x00007FF6D52481E2]\n\t(No symbol) [0x00007FF6D522BA43]\n\t(No symbol) [0x00007FF6D51FD438]\n\t(No symbol) [0x00007FF6D51FE4D1]\n\tGetHandleVerifier [0x00007FF6D5716AAD+3709933]\n\tGetHandleVerifier [0x00007FF6D576FFED+4075821]\n\tGetHandleVerifier [0x00007FF6D576817F+4043455]\n\tGetHandleVerifier [0x00007FF6D5439756+706710]\n\t(No symbol) [0x00007FF6D531B8FF]\n\t(No symbol) [0x00007FF6D5316AE4]\n\t(No symbol) [0x00007FF6D5316C3C]\n\t(No symbol) [0x00007FF6D53068F4]\n\tBaseThreadInitThunk [0x00007FF8AAA97344+20]\n\tRtlUserThreadStart [0x00007FF8AAE426B1+33]\n",
     "output_type": "error",
     "traceback": [
      "\u001b[1;31m---------------------------------------------------------------------------\u001b[0m",
      "\u001b[1;31mNoSuchElementException\u001b[0m                    Traceback (most recent call last)",
      "Cell \u001b[1;32mIn[7], line 46\u001b[0m\n\u001b[0;32m     43\u001b[0m time\u001b[38;5;241m.\u001b[39msleep(\u001b[38;5;241m2\u001b[39m)\n\u001b[0;32m     44\u001b[0m \u001b[38;5;28;01mfor\u001b[39;00m j \u001b[38;5;129;01min\u001b[39;00m \u001b[38;5;28mrange\u001b[39m(\u001b[38;5;28mlen\u001b[39m(comp_list)):\n\u001b[0;32m     45\u001b[0m     \u001b[38;5;66;03m# 회사 선택\u001b[39;00m\n\u001b[1;32m---> 46\u001b[0m     \u001b[43mdriver\u001b[49m\u001b[38;5;241;43m.\u001b[39;49m\u001b[43mfind_element\u001b[49m\u001b[43m(\u001b[49m\u001b[43mBy\u001b[49m\u001b[38;5;241;43m.\u001b[39;49m\u001b[43mXPATH\u001b[49m\u001b[43m,\u001b[49m\u001b[38;5;124;43mf\u001b[39;49m\u001b[38;5;124;43m'\u001b[39;49m\u001b[38;5;124;43m//*[@id=\u001b[39;49m\u001b[38;5;124;43m\"\u001b[39;49m\u001b[38;5;124;43mcorpTabel\u001b[39;49m\u001b[38;5;124;43m\"\u001b[39;49m\u001b[38;5;124;43m]/tbody/tr[\u001b[39;49m\u001b[38;5;132;43;01m{\u001b[39;49;00m\u001b[43mj\u001b[49m\u001b[38;5;241;43m+\u001b[39;49m\u001b[38;5;241;43m1\u001b[39;49m\u001b[38;5;132;43;01m}\u001b[39;49;00m\u001b[38;5;124;43m]/td[1]/span/a\u001b[39;49m\u001b[38;5;124;43m'\u001b[39;49m\u001b[43m)\u001b[49m\u001b[38;5;241m.\u001b[39mclick()\n\u001b[0;32m     47\u001b[0m     time\u001b[38;5;241m.\u001b[39msleep(\u001b[38;5;241m1\u001b[39m)\n\u001b[0;32m     49\u001b[0m     \u001b[38;5;66;03m# BeautifulSoup으로 회사 정보 테이블만 추출\u001b[39;00m\n",
      "File \u001b[1;32mc:\\playdata projects\\Adios\\DA34-1st-Adios-BusanPort\\.conda\\Lib\\site-packages\\selenium\\webdriver\\remote\\webdriver.py:741\u001b[0m, in \u001b[0;36mWebDriver.find_element\u001b[1;34m(self, by, value)\u001b[0m\n\u001b[0;32m    738\u001b[0m     by \u001b[38;5;241m=\u001b[39m By\u001b[38;5;241m.\u001b[39mCSS_SELECTOR\n\u001b[0;32m    739\u001b[0m     value \u001b[38;5;241m=\u001b[39m \u001b[38;5;124mf\u001b[39m\u001b[38;5;124m'\u001b[39m\u001b[38;5;124m[name=\u001b[39m\u001b[38;5;124m\"\u001b[39m\u001b[38;5;132;01m{\u001b[39;00mvalue\u001b[38;5;132;01m}\u001b[39;00m\u001b[38;5;124m\"\u001b[39m\u001b[38;5;124m]\u001b[39m\u001b[38;5;124m'\u001b[39m\n\u001b[1;32m--> 741\u001b[0m \u001b[38;5;28;01mreturn\u001b[39;00m \u001b[38;5;28;43mself\u001b[39;49m\u001b[38;5;241;43m.\u001b[39;49m\u001b[43mexecute\u001b[49m\u001b[43m(\u001b[49m\u001b[43mCommand\u001b[49m\u001b[38;5;241;43m.\u001b[39;49m\u001b[43mFIND_ELEMENT\u001b[49m\u001b[43m,\u001b[49m\u001b[43m \u001b[49m\u001b[43m{\u001b[49m\u001b[38;5;124;43m\"\u001b[39;49m\u001b[38;5;124;43musing\u001b[39;49m\u001b[38;5;124;43m\"\u001b[39;49m\u001b[43m:\u001b[49m\u001b[43m \u001b[49m\u001b[43mby\u001b[49m\u001b[43m,\u001b[49m\u001b[43m \u001b[49m\u001b[38;5;124;43m\"\u001b[39;49m\u001b[38;5;124;43mvalue\u001b[39;49m\u001b[38;5;124;43m\"\u001b[39;49m\u001b[43m:\u001b[49m\u001b[43m \u001b[49m\u001b[43mvalue\u001b[49m\u001b[43m}\u001b[49m\u001b[43m)\u001b[49m[\u001b[38;5;124m\"\u001b[39m\u001b[38;5;124mvalue\u001b[39m\u001b[38;5;124m\"\u001b[39m]\n",
      "File \u001b[1;32mc:\\playdata projects\\Adios\\DA34-1st-Adios-BusanPort\\.conda\\Lib\\site-packages\\selenium\\webdriver\\remote\\webdriver.py:347\u001b[0m, in \u001b[0;36mWebDriver.execute\u001b[1;34m(self, driver_command, params)\u001b[0m\n\u001b[0;32m    345\u001b[0m response \u001b[38;5;241m=\u001b[39m \u001b[38;5;28mself\u001b[39m\u001b[38;5;241m.\u001b[39mcommand_executor\u001b[38;5;241m.\u001b[39mexecute(driver_command, params)\n\u001b[0;32m    346\u001b[0m \u001b[38;5;28;01mif\u001b[39;00m response:\n\u001b[1;32m--> 347\u001b[0m     \u001b[38;5;28;43mself\u001b[39;49m\u001b[38;5;241;43m.\u001b[39;49m\u001b[43merror_handler\u001b[49m\u001b[38;5;241;43m.\u001b[39;49m\u001b[43mcheck_response\u001b[49m\u001b[43m(\u001b[49m\u001b[43mresponse\u001b[49m\u001b[43m)\u001b[49m\n\u001b[0;32m    348\u001b[0m     response[\u001b[38;5;124m\"\u001b[39m\u001b[38;5;124mvalue\u001b[39m\u001b[38;5;124m\"\u001b[39m] \u001b[38;5;241m=\u001b[39m \u001b[38;5;28mself\u001b[39m\u001b[38;5;241m.\u001b[39m_unwrap_value(response\u001b[38;5;241m.\u001b[39mget(\u001b[38;5;124m\"\u001b[39m\u001b[38;5;124mvalue\u001b[39m\u001b[38;5;124m\"\u001b[39m, \u001b[38;5;28;01mNone\u001b[39;00m))\n\u001b[0;32m    349\u001b[0m     \u001b[38;5;28;01mreturn\u001b[39;00m response\n",
      "File \u001b[1;32mc:\\playdata projects\\Adios\\DA34-1st-Adios-BusanPort\\.conda\\Lib\\site-packages\\selenium\\webdriver\\remote\\errorhandler.py:229\u001b[0m, in \u001b[0;36mErrorHandler.check_response\u001b[1;34m(self, response)\u001b[0m\n\u001b[0;32m    227\u001b[0m         alert_text \u001b[38;5;241m=\u001b[39m value[\u001b[38;5;124m\"\u001b[39m\u001b[38;5;124malert\u001b[39m\u001b[38;5;124m\"\u001b[39m]\u001b[38;5;241m.\u001b[39mget(\u001b[38;5;124m\"\u001b[39m\u001b[38;5;124mtext\u001b[39m\u001b[38;5;124m\"\u001b[39m)\n\u001b[0;32m    228\u001b[0m     \u001b[38;5;28;01mraise\u001b[39;00m exception_class(message, screen, stacktrace, alert_text)  \u001b[38;5;66;03m# type: ignore[call-arg]  # mypy is not smart enough here\u001b[39;00m\n\u001b[1;32m--> 229\u001b[0m \u001b[38;5;28;01mraise\u001b[39;00m exception_class(message, screen, stacktrace)\n",
      "\u001b[1;31mNoSuchElementException\u001b[0m: Message: no such element: Unable to locate element: {\"method\":\"xpath\",\"selector\":\"//*[@id=\"corpTabel\"]/tbody/tr[23]/td[1]/span/a\"}\n  (Session info: chrome=122.0.6261.71); For documentation on this error, please visit: https://www.selenium.dev/documentation/webdriver/troubleshooting/errors#no-such-element-exception\nStacktrace:\n\tGetHandleVerifier [0x00007FF6D539AD22+56930]\n\t(No symbol) [0x00007FF6D530F622]\n\t(No symbol) [0x00007FF6D51C42E5]\n\t(No symbol) [0x00007FF6D52098ED]\n\t(No symbol) [0x00007FF6D5209A2C]\n\t(No symbol) [0x00007FF6D524A967]\n\t(No symbol) [0x00007FF6D522BCDF]\n\t(No symbol) [0x00007FF6D52481E2]\n\t(No symbol) [0x00007FF6D522BA43]\n\t(No symbol) [0x00007FF6D51FD438]\n\t(No symbol) [0x00007FF6D51FE4D1]\n\tGetHandleVerifier [0x00007FF6D5716AAD+3709933]\n\tGetHandleVerifier [0x00007FF6D576FFED+4075821]\n\tGetHandleVerifier [0x00007FF6D576817F+4043455]\n\tGetHandleVerifier [0x00007FF6D5439756+706710]\n\t(No symbol) [0x00007FF6D531B8FF]\n\t(No symbol) [0x00007FF6D5316AE4]\n\t(No symbol) [0x00007FF6D5316C3C]\n\t(No symbol) [0x00007FF6D53068F4]\n\tBaseThreadInitThunk [0x00007FF8AAA97344+20]\n\tRtlUserThreadStart [0x00007FF8AAE426B1+33]\n"
     ]
    }
   ],
   "source": [
    "\n",
    "# 브라우저 꺼짐 방지\n",
    "chrome_options = Options()\n",
    "chrome_options.add_experimental_option(\"detach\", True)\n",
    "# 불필요한 에러 메시지 없애기\n",
    "chrome_options.add_experimental_option(\"excludeSwitches\", [\"enable-logging\"])\n",
    "driver = webdriver.Chrome(options=chrome_options)\n",
    "driver.get('https://dart.fss.or.kr/dsae001/main.do')\n",
    "driver.maximize_window()\n",
    "driver.implicitly_wait(5)\n",
    "# 업종별 탭\n",
    "upjong_btn=driver.find_element(By.XPATH,'//*[@id=\"businessTab\"]/a')\n",
    "time.sleep(2)\n",
    "upjong_btn.click()\n",
    "# 최상위 분류 : 도매 및 상품 중개업\n",
    "type_btn_1=driver.find_element(By.XPATH,'//*[@id=\"root4646\"]/i')\n",
    "type_btn_1.click()\n",
    "time.sleep(1)\n",
    "# 두 번째 상위 분류 : 도매 및 상품 중개업\n",
    "type_btn_2=driver.find_element(By.XPATH,'//*[@id=\"46\"]/i')\n",
    "type_btn_2.click()\n",
    "time.sleep(1)\n",
    "# 세 번째 상위 분류 : 음,식료품 및 담배 도매업\n",
    "type_btn_3=driver.find_element(By.XPATH,'//*[@id=\"463\"]/i')\n",
    "type_btn_3.click()\n",
    "time.sleep(1)\n",
    "# 네 번재 상위 분류 : 음료 및 담배 도매업\n",
    "type_btn_4=driver.find_element(By.XPATH,'//*[@id=\"4633\"]/i')\n",
    "type_btn_4.click()\n",
    "time.sleep(1)\n",
    "# 마지막 분류 : 주류 도매업\n",
    "type_btn_end=driver.find_element(By.XPATH,'//*[@id=\"46331_anchor\"]')\n",
    "type_btn_end.click()\n",
    "time.sleep(1)\n",
    "time.sleep(3)\n",
    "table_list=[]\n",
    "comp_name=[]\n",
    "df_list=[]\n",
    "page_list=driver.find_elements(By.CSS_SELECTOR,'#listContents > div.psWrap > div.pageSkip > ul > li')\n",
    "for i in range(2,4):\n",
    "    driver.find_element(By.XPATH,f'//*[@id=\"listContents\"]/div[2]/div[2]/ul/li[{i}]/a').click()\n",
    "    # 회사 개수 파악\n",
    "    comp_list=driver.find_elements(By.XPATH,'//*[@id=\"corpTabel\"]/tbody/tr')\n",
    "    time.sleep(2)\n",
    "    for j in range(len(comp_list)):\n",
    "        # 회사 선택\n",
    "        driver.find_element(By.XPATH,f'//*[@id=\"corpTabel\"]/tbody/tr[{j+1}]/td[1]/span/a').click()\n",
    "        time.sleep(1)\n",
    "        \n",
    "        # BeautifulSoup으로 회사 정보 테이블만 추출\n",
    "        html=driver.page_source\n",
    "        soup=BeautifulSoup(html,'html.parser')\n",
    "        time.sleep(1)\n",
    "        \n",
    "        # 회사 정보 리스트에 저장\n",
    "        inform_table=soup.select('#corpDetailTabel > tbody')[0]\n",
    "        table_list.append(inform_table)\n",
    "        time.sleep(1)\n",
    "        \n",
    "        # 회사 정보 테이블 기반 데이터프레임 구축\n",
    "        comp_name=[]\n",
    "        owner_name=[]\n",
    "        address=[]\n",
    "        home_page=[]\n",
    "        phone_num=[]\n",
    "        fax_num=[]\n",
    "        comp_type=[]\n",
    "        start_date=[]\n",
    "        data_list=[]\n",
    "    for j in table_list:\n",
    "        # 공백 제거\n",
    "        comp_name.append(j.select('tr>td')[2].text.strip())\n",
    "        owner_name.append(j.select('tr>td')[4].text.split('\\n')[0].lstrip())\n",
    "        address.append(j.select('tr>td')[8].text.strip())\n",
    "        home_page.append(j.select('tr>td')[9].text.strip())\n",
    "        phone_num.append(j.select('tr>td')[11].text)\n",
    "        fax_num.append(j.select('tr>td')[12].text)\n",
    "        comp_type.append(j.select('tr>td')[13].text)\n",
    "        \n",
    "        # 날짜형으로 변환\n",
    "        start_date.append(pd.to_datetime(j.select('tr>td')[14].text,format='%Y-%m-%d'))\n",
    "    df_raw=pd.DataFrame({\n",
    "            '회사명':comp_name,\n",
    "            '대표자명':owner_name,\n",
    "            '주소':address,\n",
    "            '홈페이지':home_page,\n",
    "            '전화번호':phone_num,\n",
    "            '팩스번호':fax_num,\n",
    "            '업종':comp_type,\n",
    "            '설립일':start_date\n",
    "        })\n",
    "    df_list.append(df_raw)\n",
    "driver.close()"
   ]
  },
  {
   "cell_type": "code",
   "execution_count": 15,
   "metadata": {},
   "outputs": [
    {
     "data": {
      "text/plain": [
       "67"
      ]
     },
     "execution_count": 15,
     "metadata": {},
     "output_type": "execute_result"
    }
   ],
   "source": [
    "len(table_list)"
   ]
  }
 ],
 "metadata": {
  "kernelspec": {
   "display_name": "Python 3",
   "language": "python",
   "name": "python3"
  },
  "language_info": {
   "codemirror_mode": {
    "name": "ipython",
    "version": 3
   },
   "file_extension": ".py",
   "mimetype": "text/x-python",
   "name": "python",
   "nbconvert_exporter": "python",
   "pygments_lexer": "ipython3",
   "version": "3.11.8"
  }
 },
 "nbformat": 4,
 "nbformat_minor": 2
}
