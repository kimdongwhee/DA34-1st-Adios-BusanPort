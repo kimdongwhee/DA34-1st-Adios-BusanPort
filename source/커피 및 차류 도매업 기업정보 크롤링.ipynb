{
 "cells": [
  {
   "cell_type": "markdown",
   "metadata": {},
   "source": [
    "# 커피 및 차류 도매업 기업정보 크롤링"
   ]
  },
  {
   "cell_type": "code",
   "execution_count": 1,
   "metadata": {},
   "outputs": [],
   "source": [
    "import numpy as np\n",
    "import pandas as pd\n",
    "from selenium import webdriver #Selenium의 웹 드라이버를 사용하기 위한 모듈을 임포트\n",
    "from selenium.webdriver.common.by import By #Selenium에서 사용하는 By 클래스를 임포트합. 웹 요소를 검색하는데 사용.\n",
    "from selenium.webdriver.common.keys import Keys #키보드 입력 제어를 위해 Keys 클래스 임포트\n",
    "from selenium.webdriver.chrome.service import Service #Chrome 드라이버 서비스를 사용하기 위한 모듈 임포트\n",
    "from selenium.webdriver.chrome.options import Options #Chrome 드라이버 옵션을 설정하기 위한 클래스 임포트\n",
    "from webdriver_manager.chrome import ChromeDriverManager #Chrome 드라이버를 자동으로 설치 및 관리하는데 사용되는 드라이버 매니저 임포트\n",
    "from bs4 import BeautifulSoup #Beautiful soup 크롤링을위해\n",
    "import time"
   ]
  },
  {
   "cell_type": "code",
   "execution_count": 3,
   "metadata": {},
   "outputs": [],
   "source": [
    "# 브라우저 꺼짐 방지\n",
    "chrome_options = Options()\n",
    "chrome_options.add_experimental_option(\"detach\", True)\n",
    "# 불필요한 에러 메시지 없애기\n",
    "chrome_options.add_experimental_option(\"excludeSwitches\", [\"enable-logging\"])\n",
    "driver = webdriver.Chrome(options=chrome_options)\n",
    "driver.get('https://dart.fss.or.kr/dsae001/main.do')\n",
    "driver.maximize_window()\n",
    "driver.implicitly_wait(5)\n",
    "# 업종별 탭\n",
    "upjong_btn=driver.find_element(By.CSS_SELECTOR,'#businessTab > a')\n",
    "upjong_btn.click()\n",
    "# 최상위 분류 : 도매 및 상품 중개업\n",
    "type_btn_1=driver.find_element(By.CSS_SELECTOR,'#root4646 > i')\n",
    "type_btn_1.click()\n",
    "time.sleep(1)\n",
    "# 두 번째 상위 분류 : 도매 및 상품 중개업\n",
    "type_btn_2=driver.find_element(By.XPATH,'//*[@id=\"46\"]/i')\n",
    "type_btn_2.click()\n",
    "time.sleep(1)\n",
    "# 세 번째 상위 분류 : 음,식료품 및 담배 도매업\n",
    "type_btn_3=driver.find_element(By.XPATH,'//*[@id=\"463\"]/i')\n",
    "type_btn_3.click()\n",
    "time.sleep(1)\n",
    "# 네 번재 상위 분류 : 가공식품 도매업\n",
    "type_btn_4=driver.find_element(By.XPATH,'//*[@id=\"4632\"]/i')\n",
    "type_btn_4.click()\n",
    "time.sleep(1)\n",
    "# 마지막 분류 : 커피 및 차류 도매업\n",
    "type_btn_end=driver.find_element(By.XPATH,'//*[@id=\"46325_anchor\"]')\n",
    "type_btn_end.click()\n",
    "time.sleep(1)\n",
    "time.sleep(3)\n",
    "table_list=[]\n",
    "comp_name=[]\n",
    "page_list=driver.find_elements(By.CSS_SELECTOR,'#listContents > div.psWrap > div.pageSkip > ul > li')\n",
    "comp_list=driver.find_elements(By.XPATH,'//*[@id=\"corpTabel\"]/tbody/tr')\n",
    "for j in range(len(comp_list)):\n",
    "    driver.find_element(By.XPATH,f'//*[@id=\"corpTabel\"]/tbody/tr[{j+1}]/td[1]/span/a').click()\n",
    "    time.sleep(1)\n",
    "    html=driver.page_source\n",
    "    soup=BeautifulSoup(html,'html.parser')\n",
    "    time.sleep(1)\n",
    "    inform_table=soup.select('#corpDetailTabel > tbody')[0]\n",
    "    table_list.append(inform_table)\n",
    "    time.sleep(1)\n",
    "    comp_name=[]\n",
    "    owner_name=[]\n",
    "    address=[]\n",
    "    home_page=[]\n",
    "    phone_num=[]\n",
    "    fax_num=[]\n",
    "    comp_type=[]\n",
    "    start_date=[]\n",
    "    data_list=[]\n",
    "for j in table_list:\n",
    "    comp_name.append(j.select('tr>td')[2].text.strip())\n",
    "    owner_name.append(j.select('tr>td')[4].text.split('\\n')[0].lstrip())\n",
    "    address.append(j.select('tr>td')[8].text.strip())\n",
    "    home_page.append(j.select('tr>td')[9].text.strip())\n",
    "    phone_num.append(j.select('tr>td')[11].text)\n",
    "    fax_num.append(j.select('tr>td')[12].text)\n",
    "    comp_type.append(j.select('tr>td')[13].text)\n",
    "    start_date.append(pd.to_datetime(j.select('tr>td')[14].text,format='%Y-%m-%d'))\n",
    "df_raw=pd.DataFrame({\n",
    "    '회사명':comp_name,\n",
    "    '대표자명':owner_name,\n",
    "    '주소':address,\n",
    "    '홈페이지':home_page,\n",
    "    '전화번호':phone_num,\n",
    "    '팩스번호':fax_num,\n",
    "    '업종':comp_type,\n",
    "    '설립일':start_date\n",
    "    })"
   ]
  },
  {
   "cell_type": "code",
   "execution_count": 5,
   "metadata": {},
   "outputs": [],
   "source": [
    "coffe_tea_done_df=df_raw\n",
    "coffe_tea_done_df.to_csv('c:/playdata projects/Adios/DA34-1st-Adios-BusanPort/data/커피 및 차류 도매기업.csv')"
   ]
  }
 ],
 "metadata": {
  "kernelspec": {
   "display_name": "Python 3",
   "language": "python",
   "name": "python3"
  },
  "language_info": {
   "codemirror_mode": {
    "name": "ipython",
    "version": 3
   },
   "file_extension": ".py",
   "mimetype": "text/x-python",
   "name": "python",
   "nbconvert_exporter": "python",
   "pygments_lexer": "ipython3",
   "version": "3.11.8"
  }
 },
 "nbformat": 4,
 "nbformat_minor": 2
}
