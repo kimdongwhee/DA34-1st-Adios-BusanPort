{
 "cells": [
  {
   "cell_type": "markdown",
   "metadata": {},
   "source": [
    "<h1>년도/월별 물동량 전처리"
   ]
  },
  {
   "cell_type": "markdown",
   "metadata": {},
   "source": [
    "<h3>1) 라이브러리 호출"
   ]
  },
  {
   "cell_type": "code",
   "execution_count": 13,
   "metadata": {},
   "outputs": [],
   "source": [
    "import pandas as pd\n",
    "import glob"
   ]
  },
  {
   "cell_type": "markdown",
   "metadata": {},
   "source": [
    "<h3>2) 데이터 호출"
   ]
  },
  {
   "cell_type": "code",
   "execution_count": 14,
   "metadata": {},
   "outputs": [
    {
     "name": "stdout",
     "output_type": "stream",
     "text": [
      "불러올 파일 총 개수 : 11\n"
     ]
    },
    {
     "name": "stderr",
     "output_type": "stream",
     "text": [
      "c:\\playdata projects\\Adios\\DA34-1st-Adios-BusanPort\\.conda\\Lib\\site-packages\\openpyxl\\styles\\stylesheet.py:226: UserWarning: Workbook contains no default style, apply openpyxl's default\n",
      "  warn(\"Workbook contains no default style, apply openpyxl's default\")\n",
      "c:\\playdata projects\\Adios\\DA34-1st-Adios-BusanPort\\.conda\\Lib\\site-packages\\openpyxl\\styles\\stylesheet.py:226: UserWarning: Workbook contains no default style, apply openpyxl's default\n",
      "  warn(\"Workbook contains no default style, apply openpyxl's default\")\n",
      "c:\\playdata projects\\Adios\\DA34-1st-Adios-BusanPort\\.conda\\Lib\\site-packages\\openpyxl\\styles\\stylesheet.py:226: UserWarning: Workbook contains no default style, apply openpyxl's default\n",
      "  warn(\"Workbook contains no default style, apply openpyxl's default\")\n",
      "c:\\playdata projects\\Adios\\DA34-1st-Adios-BusanPort\\.conda\\Lib\\site-packages\\openpyxl\\styles\\stylesheet.py:226: UserWarning: Workbook contains no default style, apply openpyxl's default\n",
      "  warn(\"Workbook contains no default style, apply openpyxl's default\")\n",
      "c:\\playdata projects\\Adios\\DA34-1st-Adios-BusanPort\\.conda\\Lib\\site-packages\\openpyxl\\styles\\stylesheet.py:226: UserWarning: Workbook contains no default style, apply openpyxl's default\n",
      "  warn(\"Workbook contains no default style, apply openpyxl's default\")\n",
      "c:\\playdata projects\\Adios\\DA34-1st-Adios-BusanPort\\.conda\\Lib\\site-packages\\openpyxl\\styles\\stylesheet.py:226: UserWarning: Workbook contains no default style, apply openpyxl's default\n",
      "  warn(\"Workbook contains no default style, apply openpyxl's default\")\n",
      "c:\\playdata projects\\Adios\\DA34-1st-Adios-BusanPort\\.conda\\Lib\\site-packages\\openpyxl\\styles\\stylesheet.py:226: UserWarning: Workbook contains no default style, apply openpyxl's default\n",
      "  warn(\"Workbook contains no default style, apply openpyxl's default\")\n",
      "c:\\playdata projects\\Adios\\DA34-1st-Adios-BusanPort\\.conda\\Lib\\site-packages\\openpyxl\\styles\\stylesheet.py:226: UserWarning: Workbook contains no default style, apply openpyxl's default\n",
      "  warn(\"Workbook contains no default style, apply openpyxl's default\")\n",
      "c:\\playdata projects\\Adios\\DA34-1st-Adios-BusanPort\\.conda\\Lib\\site-packages\\openpyxl\\styles\\stylesheet.py:226: UserWarning: Workbook contains no default style, apply openpyxl's default\n",
      "  warn(\"Workbook contains no default style, apply openpyxl's default\")\n",
      "c:\\playdata projects\\Adios\\DA34-1st-Adios-BusanPort\\.conda\\Lib\\site-packages\\openpyxl\\styles\\stylesheet.py:226: UserWarning: Workbook contains no default style, apply openpyxl's default\n",
      "  warn(\"Workbook contains no default style, apply openpyxl's default\")\n",
      "c:\\playdata projects\\Adios\\DA34-1st-Adios-BusanPort\\.conda\\Lib\\site-packages\\openpyxl\\styles\\stylesheet.py:226: UserWarning: Workbook contains no default style, apply openpyxl's default\n",
      "  warn(\"Workbook contains no default style, apply openpyxl's default\")\n"
     ]
    }
   ],
   "source": [
    "#glob 함수사용\n",
    "fileOrigin = glob.glob(\"C:/playdata projects/Adios/DA34-1st-Adios-BusanPort/data/부산항 월별 물동량/*년도_*\") #년도_가 포함된 파일 저장\n",
    "print(f\"불러올 파일 총 개수 : {len(fileOrigin)}\")\n",
    "dataList = list()\n",
    "for v in fileOrigin:\n",
    "    raw = pd.read_excel(v,header=None)\n",
    "    dataList.append(raw)\n",
    "    conCatData = pd.concat(dataList).reset_index() #인덱스 초기화\n",
    "\n",
    "conCatData.drop('index',axis=1, inplace=True) #인덱스필드 삭제"
   ]
  },
  {
   "cell_type": "code",
   "execution_count": 15,
   "metadata": {},
   "outputs": [
    {
     "name": "stdout",
     "output_type": "stream",
     "text": [
      "<class 'pandas.core.frame.DataFrame'>\n",
      "RangeIndex: 132 entries, 0 to 131\n",
      "Data columns (total 4 columns):\n",
      " #   Column  Non-Null Count  Dtype \n",
      "---  ------  --------------  ----- \n",
      " 0   년/월     132 non-null    object\n",
      " 1   년도      132 non-null    object\n",
      " 2   월       132 non-null    object\n",
      " 3   컨테이너    132 non-null    int32 \n",
      "dtypes: int32(1), object(3)\n",
      "memory usage: 3.7+ KB\n"
     ]
    }
   ],
   "source": [
    "for i in range(0,conCatData.shape[1]):\n",
    "    if i > 1:\n",
    "        conCatData.drop(i, axis=1, inplace=True)\n",
    "srtData = conCatData.drop(conCatData.iloc[0:2,:])\n",
    "\n",
    "#컬럼명 변경\n",
    "columnList={0: \"월\", 1:\"컨테이너\",2:\"일반\"}\n",
    "srtData.rename(columns=columnList, inplace=True)\n",
    "\n",
    "#컬럼추가\n",
    "srtData['년도'] = \"\"\n",
    "srtData['년/월'] = \"\"\n",
    "\n",
    "#월 필드가 부산항(전체)~ , \"월\", NaN 인 행 삭제\n",
    "srtData = srtData[(srtData.iloc[:, 0] != \"부산항(전체) 총계(TON)\") & (srtData.iloc[:, 0] != \"월\") & (~pd.isna(srtData.iloc[:, 0]))]\n",
    "\n",
    "srtData = srtData[['년/월','년도','월','컨테이너']]\n",
    "\n",
    "srtData.iloc[2,:]\n",
    "srtData.reset_index(inplace=True)\n",
    "srtData.head(12)\n",
    "\n",
    "#반복문 활용한 데이터별 년도 삽입\n",
    "for v in range(0,srtData.shape[0]):\n",
    "    if v < 12:\n",
    "        srtData.iloc[v,2] = 2013\n",
    "    elif v < 24:\n",
    "        srtData.iloc[v,2] = 2014\n",
    "    elif v < 36:\n",
    "        srtData.iloc[v,2] = 2015\n",
    "    elif v < 48:\n",
    "        srtData.iloc[v,2] = 2016\n",
    "    elif v < 60:\n",
    "        srtData.iloc[v,2] = 2017\n",
    "    elif v < 72:\n",
    "        srtData.iloc[v,2] = 2018\n",
    "    elif v < 84:\n",
    "        srtData.iloc[v,2] = 2019\n",
    "    elif v < 96:\n",
    "        srtData.iloc[v,2] = 2020    \n",
    "    elif v < 108:\n",
    "        srtData.iloc[v,2] = 2021\n",
    "    elif v < 120:\n",
    "        srtData.iloc[v,2] = 2022\n",
    "    elif v < 132:\n",
    "        srtData.iloc[v,2] = 2023\n",
    "\n",
    "#데이터타입 문자형로 형변환\n",
    "srtData.astype(str)\n",
    "\n",
    "#데이터삽입 : zip 함수사용\n",
    "zipList = list()\n",
    "for v in zip(srtData['년도'], srtData['월']):\n",
    "    zipList.append(str(list(v)[0]) + \"-\" + list(v)[1])\n",
    "srtData[\"년/월\"] = zipList\n",
    "\n",
    "del srtData['index']\n",
    "srtData[\"컨테이너\"] = srtData[\"컨테이너\"].astype(int)\n",
    "\n",
    "#데이터 정보확인 및 타입변경\n",
    "srtData.info()\n",
    "srtData.head(10)\n",
    "srtData['년/월'] = pd.to_datetime(srtData['년/월'], format=\"%Y-%m\")\n",
    "\n",
    "#데이터 저장\n",
    "srtData.to_csv(\"C:/playdata projects/Adios/DA34-1st-Adios-BusanPort/data/년,월별 물동량.csv\", encoding=\"utf-8-sig\")"
   ]
  },
  {
   "cell_type": "code",
   "execution_count": null,
   "metadata": {},
   "outputs": [],
   "source": []
  }
 ],
 "metadata": {
  "kernelspec": {
   "display_name": "Python 3",
   "language": "python",
   "name": "python3"
  },
  "language_info": {
   "codemirror_mode": {
    "name": "ipython",
    "version": 3
   },
   "file_extension": ".py",
   "mimetype": "text/x-python",
   "name": "python",
   "nbconvert_exporter": "python",
   "pygments_lexer": "ipython3",
   "version": "3.11.8"
  }
 },
 "nbformat": 4,
 "nbformat_minor": 2
}
